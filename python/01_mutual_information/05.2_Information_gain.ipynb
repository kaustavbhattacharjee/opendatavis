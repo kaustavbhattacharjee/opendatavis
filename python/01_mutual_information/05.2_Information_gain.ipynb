{
 "cells": [
  {
   "cell_type": "code",
   "execution_count": 1,
   "metadata": {},
   "outputs": [],
   "source": [
    "import pandas as pd\n",
    "import numpy as np\n",
    "\n",
    "import matplotlib.pyplot as plt\n",
    "import seaborn as sns\n",
    "%matplotlib inline\n",
    "from sklearn.model_selection import train_test_split\n",
    "from sklearn.feature_selection import mutual_info_classif, mutual_info_regression\n",
    "from sklearn.feature_selection import SelectKBest, SelectPercentile\n",
    "import glob\n",
    "import sys\n",
    "import os"
   ]
  },
  {
   "cell_type": "code",
   "execution_count": 15,
   "metadata": {},
   "outputs": [
    {
     "data": {
      "text/plain": [
       "{'01_2013-2014_-_2017-_2018_Demographic_Snapshot_Citywide.csv': {'Total Enrollment': {'Grade PK (Half Day & Full Day)': 0.0,\n",
       "   'Grade K': 0.0,\n",
       "   'Grade 1': 0.0,\n",
       "   'Grade 2': 0.0,\n",
       "   'Grade 3': 0.0,\n",
       "   'Grade 4': 0.0,\n",
       "   'Grade 5': 0.0,\n",
       "   'Grade 6': 0.0,\n",
       "   'Grade 7': 0.0,\n",
       "   'Grade 8': 0.0,\n",
       "   'Grade 9': 0.0,\n",
       "   'Grade 10': 0.0,\n",
       "   'Grade 11': 0.0,\n",
       "   'Grade 12': 0.0,\n",
       "   '# Female': 0.0,\n",
       "   '% Female': 0.0,\n",
       "   '# Male': 2.220446049250313e-16,\n",
       "   '% Male': 0.0,\n",
       "   '# Asian': 0.0,\n",
       "   '% Asian': 0.0,\n",
       "   '# Black': 0.0,\n",
       "   '% Black': 0.0,\n",
       "   '# Hispanic': 0.0,\n",
       "   '% Hispanic': 0.0,\n",
       "   '# Multiple Race Categories Not Represented': 0.0,\n",
       "   '% Multiple Race Categories Not Represented': 0.0,\n",
       "   '# White': 0.0,\n",
       "   '% White': 0.0,\n",
       "   '# Students with Disabilities': 0.0,\n",
       "   '% Students with Disabilities': 0.0,\n",
       "   '# English Language Learners': 0.0,\n",
       "   '% English Language Learners': 0.0,\n",
       "   '# Poverty': 0.0,\n",
       "   '% Poverty': 0.0,\n",
       "   'Economic Need Index': 0.0},\n",
       "  '% Asian': {'Total Enrollment': 0,\n",
       "   'Grade PK (Half Day & Full Day)': 0,\n",
       "   'Grade K': 0,\n",
       "   'Grade 1': 0,\n",
       "   'Grade 2': 0,\n",
       "   'Grade 3': 0,\n",
       "   'Grade 4': 0,\n",
       "   'Grade 5': 0,\n",
       "   'Grade 6': 0,\n",
       "   'Grade 7': 0,\n",
       "   'Grade 8': 0,\n",
       "   'Grade 9': 0,\n",
       "   'Grade 10': 0,\n",
       "   'Grade 11': 0,\n",
       "   'Grade 12': 0,\n",
       "   '# Female': 0,\n",
       "   '% Female': 0,\n",
       "   '# Male': 0,\n",
       "   '% Male': 0,\n",
       "   '# Asian': 0,\n",
       "   '# Black': 0,\n",
       "   '% Black': 0,\n",
       "   '# Hispanic': 0,\n",
       "   '% Hispanic': 0,\n",
       "   '# Multiple Race Categories Not Represented': 0,\n",
       "   '% Multiple Race Categories Not Represented': 0,\n",
       "   '# White': 0,\n",
       "   '% White': 0,\n",
       "   '# Students with Disabilities': 0,\n",
       "   '% Students with Disabilities': 0,\n",
       "   '# English Language Learners': 0,\n",
       "   '% English Language Learners': 0,\n",
       "   '# Poverty': 0,\n",
       "   '% Poverty': 0,\n",
       "   'Economic Need Index': 0}},\n",
       " '03_2013_-_2018_Demographic_Snapshot_Borough.csv': {'Total Enrollment': {'Grade PK (Half Day & Full Day)': 1.4638651982692241,\n",
       "   'Grade K': 1.6983890077930335,\n",
       "   'Grade 1': 1.6908132502172755,\n",
       "   'Grade 2': 1.702176886580912,\n",
       "   'Grade 3': 1.70975264415667,\n",
       "   'Grade 4': 1.6567223411263667,\n",
       "   'Grade 5': 1.6605102199142456,\n",
       "   'Grade 6': 1.6794496138536392,\n",
       "   'Grade 7': 1.7097526441566695,\n",
       "   'Grade 8': 1.6870253714293966,\n",
       "   'Grade 9': 1.425120609524635,\n",
       "   'Grade 10': 1.4802071896112148,\n",
       "   'Grade 11': 1.6567223411263663,\n",
       "   'Grade 12': 1.6324799168839423,\n",
       "   '# Female': 1.7855102199142454,\n",
       "   '% Female': 1.0537461506501757,\n",
       "   '# Male': 1.8120253714293968,\n",
       "   '% Male': 1.0534936253976506,\n",
       "   '# Asian': 1.6983890077930333,\n",
       "   '% Asian': 1.7249041593081846,\n",
       "   '# Black': 1.6908132502172757,\n",
       "   '% Black': 1.649904159308185,\n",
       "   '# Hispanic': 1.7097526441566702,\n",
       "   '% Hispanic': 1.3930859774900026,\n",
       "   '# Multiple Race Categories Not Represented': 0.9876370072683056,\n",
       "   '% Multiple Race Categories Not Represented': 0.20956009680503151,\n",
       "   '# White': 1.581722341126366,\n",
       "   '% White': 1.5135405229445478,\n",
       "   '# Students with Disabilities': 1.4017439861480112,\n",
       "   '% Students with Disabilities': 1.2270686614726867,\n",
       "   '# English Language Learners': 1.1112317206357465,\n",
       "   '% English Language Learners': 1.4735874204914465,\n",
       "   '# Poverty': 1.5946011290051543,\n",
       "   '% Poverty': 1.2444929038969297},\n",
       "  '% Asian': {'Total Enrollment': 1.7249041593081844,\n",
       "   'Grade PK (Half Day & Full Day)': 1.336051345455371,\n",
       "   'Grade K': 1.6983890077930333,\n",
       "   'Grade 1': 1.6794496138536392,\n",
       "   'Grade 2': 1.7135405229445482,\n",
       "   'Grade 3': 1.6983890077930333,\n",
       "   'Grade 4': 1.6605102199142447,\n",
       "   'Grade 5': 1.6946011290051544,\n",
       "   'Grade 6': 1.671873856277882,\n",
       "   'Grade 7': 1.7211162805203057,\n",
       "   'Grade 8': 1.6756617350657608,\n",
       "   'Grade 9': 1.387241821645847,\n",
       "   'Grade 10': 1.4858348952389209,\n",
       "   'Grade 11': 1.6567223411263665,\n",
       "   'Grade 12': 1.6324799168839421,\n",
       "   '# Female': 1.7286920380960633,\n",
       "   '% Female': 1.1045201241514222,\n",
       "   '# Male': 1.7249041593081844,\n",
       "   '% Male': 1.2275901097214075,\n",
       "   '# Asian': 1.6695470164510418,\n",
       "   '# Black': 1.7286920380960633,\n",
       "   '% Black': 1.6779344623384873,\n",
       "   '# Hispanic': 1.6983890077930333,\n",
       "   '% Hispanic': 1.3771227740267997,\n",
       "   '# Multiple Race Categories Not Represented': 0.9555521729107437,\n",
       "   '% Multiple Race Categories Not Represented': 0.30430927587907664,\n",
       "   '# White': 1.636213683117708,\n",
       "   '% White': 1.5065600034640287,\n",
       "   '# Students with Disabilities': 1.4362677956718213,\n",
       "   '% Students with Disabilities': 1.1756059827372805,\n",
       "   '# English Language Learners': 1.1093377812418064,\n",
       "   '% English Language Learners': 1.5082374926415185,\n",
       "   '# Poverty': 1.6286920380960632,\n",
       "   '% Poverty': 1.3881076225116478}}}"
      ]
     },
     "execution_count": 15,
     "metadata": {},
     "output_type": "execute_result"
    }
   ],
   "source": [
    "datasets_list=['01_2013-2014_-_2017-_2018_Demographic_Snapshot_Citywide.csv','03_2013_-_2018_Demographic_Snapshot_Borough.csv']\n",
    "attributes_list=['Total Enrollment','% Asian']\n",
    "mydict1={}\n",
    "for filename in glob.glob('*.csv'):\n",
    "    mydict={}\n",
    "    if(filename in datasets_list):\n",
    "        data=pd.read_csv(filename)\n",
    "        for col in data.columns:\n",
    "            #print (col)\n",
    "            if col in attributes_list:\n",
    "                    numerics = ['int16', 'int32', 'int64', 'float16', 'float32', 'float64']\n",
    "                    numerical_vars = list(data.select_dtypes(include=numerics).columns)\n",
    "                    data = data[numerical_vars]\n",
    "                    lab=[col]\n",
    "                    #print(data[col])\n",
    "                    # separate train and test sets\n",
    "                    X_train, X_test, y_train, y_test = train_test_split(data.drop(labels=lab, axis=1),data[col],test_size=0.1,random_state=0)\n",
    "                    mi = mutual_info_regression(X_train.fillna(0), y_train)\n",
    "                    mi = pd.Series(mi)\n",
    "                    mi.index = X_train.columns\n",
    "                    mi.sort_values(ascending=False)\n",
    "                    mydict[col]=mi.to_dict()\n",
    "        mydict1[filename]=mydict\n",
    "mydict1"
   ]
  },
  {
   "cell_type": "code",
   "execution_count": 16,
   "metadata": {},
   "outputs": [
    {
     "name": "stdout",
     "output_type": "stream",
     "text": [
      "01_2013-2014_-_2017-_2018_Demographic_Snapshot_Citywide.csv ------------ Total Enrollment \n",
      " {'Grade PK (Half Day & Full Day)': 0.0, 'Grade K': 0.0, 'Grade 1': 0.0, 'Grade 2': 0.0, 'Grade 3': 0.0, 'Grade 4': 0.0, 'Grade 5': 0.0, 'Grade 6': 0.0, 'Grade 7': 0.0, 'Grade 8': 0.0, 'Grade 9': 0.0, 'Grade 10': 0.0, 'Grade 11': 0.0, 'Grade 12': 0.0, '# Female': 0.0, '% Female': 0.0, '# Male': 2.220446049250313e-16, '% Male': 0.0, '# Asian': 0.0, '% Asian': 0.0, '# Black': 0.0, '% Black': 0.0, '# Hispanic': 0.0, '% Hispanic': 0.0, '# Multiple Race Categories Not Represented': 0.0, '% Multiple Race Categories Not Represented': 0.0, '# White': 0.0, '% White': 0.0, '# Students with Disabilities': 0.0, '% Students with Disabilities': 0.0, '# English Language Learners': 0.0, '% English Language Learners': 0.0, '# Poverty': 0.0, '% Poverty': 0.0, 'Economic Need Index': 0.0}\n",
      "01_2013-2014_-_2017-_2018_Demographic_Snapshot_Citywide.csv ------------ % Asian \n",
      " {'Total Enrollment': 0, 'Grade PK (Half Day & Full Day)': 0, 'Grade K': 0, 'Grade 1': 0, 'Grade 2': 0, 'Grade 3': 0, 'Grade 4': 0, 'Grade 5': 0, 'Grade 6': 0, 'Grade 7': 0, 'Grade 8': 0, 'Grade 9': 0, 'Grade 10': 0, 'Grade 11': 0, 'Grade 12': 0, '# Female': 0, '% Female': 0, '# Male': 0, '% Male': 0, '# Asian': 0, '# Black': 0, '% Black': 0, '# Hispanic': 0, '% Hispanic': 0, '# Multiple Race Categories Not Represented': 0, '% Multiple Race Categories Not Represented': 0, '# White': 0, '% White': 0, '# Students with Disabilities': 0, '% Students with Disabilities': 0, '# English Language Learners': 0, '% English Language Learners': 0, '# Poverty': 0, '% Poverty': 0, 'Economic Need Index': 0}\n",
      "03_2013_-_2018_Demographic_Snapshot_Borough.csv ------------ Total Enrollment \n",
      " {'Grade PK (Half Day & Full Day)': 1.4638651982692241, 'Grade K': 1.6983890077930335, 'Grade 1': 1.6908132502172755, 'Grade 2': 1.702176886580912, 'Grade 3': 1.70975264415667, 'Grade 4': 1.6567223411263667, 'Grade 5': 1.6605102199142456, 'Grade 6': 1.6794496138536392, 'Grade 7': 1.7097526441566695, 'Grade 8': 1.6870253714293966, 'Grade 9': 1.425120609524635, 'Grade 10': 1.4802071896112148, 'Grade 11': 1.6567223411263663, 'Grade 12': 1.6324799168839423, '# Female': 1.7855102199142454, '% Female': 1.0537461506501757, '# Male': 1.8120253714293968, '% Male': 1.0534936253976506, '# Asian': 1.6983890077930333, '% Asian': 1.7249041593081846, '# Black': 1.6908132502172757, '% Black': 1.649904159308185, '# Hispanic': 1.7097526441566702, '% Hispanic': 1.3930859774900026, '# Multiple Race Categories Not Represented': 0.9876370072683056, '% Multiple Race Categories Not Represented': 0.20956009680503151, '# White': 1.581722341126366, '% White': 1.5135405229445478, '# Students with Disabilities': 1.4017439861480112, '% Students with Disabilities': 1.2270686614726867, '# English Language Learners': 1.1112317206357465, '% English Language Learners': 1.4735874204914465, '# Poverty': 1.5946011290051543, '% Poverty': 1.2444929038969297}\n",
      "03_2013_-_2018_Demographic_Snapshot_Borough.csv ------------ % Asian \n",
      " {'Total Enrollment': 1.7249041593081844, 'Grade PK (Half Day & Full Day)': 1.336051345455371, 'Grade K': 1.6983890077930333, 'Grade 1': 1.6794496138536392, 'Grade 2': 1.7135405229445482, 'Grade 3': 1.6983890077930333, 'Grade 4': 1.6605102199142447, 'Grade 5': 1.6946011290051544, 'Grade 6': 1.671873856277882, 'Grade 7': 1.7211162805203057, 'Grade 8': 1.6756617350657608, 'Grade 9': 1.387241821645847, 'Grade 10': 1.4858348952389209, 'Grade 11': 1.6567223411263665, 'Grade 12': 1.6324799168839421, '# Female': 1.7286920380960633, '% Female': 1.1045201241514222, '# Male': 1.7249041593081844, '% Male': 1.2275901097214075, '# Asian': 1.6695470164510418, '# Black': 1.7286920380960633, '% Black': 1.6779344623384873, '# Hispanic': 1.6983890077930333, '% Hispanic': 1.3771227740267997, '# Multiple Race Categories Not Represented': 0.9555521729107437, '% Multiple Race Categories Not Represented': 0.30430927587907664, '# White': 1.636213683117708, '% White': 1.5065600034640287, '# Students with Disabilities': 1.4362677956718213, '% Students with Disabilities': 1.1756059827372805, '# English Language Learners': 1.1093377812418064, '% English Language Learners': 1.5082374926415185, '# Poverty': 1.6286920380960632, '% Poverty': 1.3881076225116478}\n"
     ]
    }
   ],
   "source": [
    "for datasets in mydict1:\n",
    "    for attributes in mydict1[datasets]:\n",
    "        print (datasets,\"------------\",attributes,\"\\n\",mydict1[datasets][attributes])\n"
   ]
  },
  {
   "cell_type": "code",
   "execution_count": 17,
   "metadata": {
    "scrolled": true
   },
   "outputs": [
    {
     "data": {
      "text/plain": [
       "# Female                                      1.728692\n",
       "# Black                                       1.728692\n",
       "Total Enrollment                              1.724904\n",
       "# Male                                        1.724904\n",
       "Grade 7                                       1.721116\n",
       "Grade 2                                       1.713541\n",
       "# Hispanic                                    1.698389\n",
       "Grade K                                       1.698389\n",
       "Grade 3                                       1.698389\n",
       "Grade 5                                       1.694601\n",
       "Grade 1                                       1.679450\n",
       "% Black                                       1.677934\n",
       "Grade 8                                       1.675662\n",
       "Grade 6                                       1.671874\n",
       "# Asian                                       1.669547\n",
       "Grade 4                                       1.660510\n",
       "Grade 11                                      1.656722\n",
       "# White                                       1.636214\n",
       "Grade 12                                      1.632480\n",
       "# Poverty                                     1.628692\n",
       "% English Language Learners                   1.508237\n",
       "% White                                       1.506560\n",
       "Grade 10                                      1.485835\n",
       "# Students with Disabilities                  1.436268\n",
       "% Poverty                                     1.388108\n",
       "Grade 9                                       1.387242\n",
       "% Hispanic                                    1.377123\n",
       "Grade PK (Half Day & Full Day)                1.336051\n",
       "% Male                                        1.227590\n",
       "% Students with Disabilities                  1.175606\n",
       "# English Language Learners                   1.109338\n",
       "% Female                                      1.104520\n",
       "# Multiple Race Categories Not Represented    0.955552\n",
       "% Multiple Race Categories Not Represented    0.304309\n",
       "dtype: float64"
      ]
     },
     "execution_count": 17,
     "metadata": {},
     "output_type": "execute_result"
    }
   ],
   "source": [
    "# let's add the variable names and order the features\n",
    "# according to the MI for clearer visualisation\n",
    "mi = pd.Series(mi)\n",
    "mi.index = X_train.columns\n",
    "mi.sort_values(ascending=False)"
   ]
  },
  {
   "cell_type": "code",
   "execution_count": 8,
   "metadata": {},
   "outputs": [
    {
     "data": {
      "text/plain": [
       "<matplotlib.axes._subplots.AxesSubplot at 0x10a6287f0>"
      ]
     },
     "execution_count": 8,
     "metadata": {},
     "output_type": "execute_result"
    },
    {
     "data": {
      "image/png": "[encoded data removed]",
      "text/plain": [
       "<Figure size 1440x576 with 1 Axes>"
      ]
     },
     "metadata": {
      "needs_background": "light"
     },
     "output_type": "display_data"
    }
   ],
   "source": [
    "# and now let's plot the ordered MI values per feature\n",
    "mi.sort_values(ascending=False).plot.bar(figsize=(20, 8))"
   ]
  }
 ],
 "metadata": {
  "kernelspec": {
   "display_name": "Python 3",
   "language": "python",
   "name": "python3"
  },
  "language_info": {
   "codemirror_mode": {
    "name": "ipython",
    "version": 3
   },
   "file_extension": ".py",
   "mimetype": "text/x-python",
   "name": "python",
   "nbconvert_exporter": "python",
   "pygments_lexer": "ipython3",
   "version": "3.7.3"
  },
  "toc": {
   "nav_menu": {},
   "number_sections": true,
   "sideBar": true,
   "skip_h1_title": false,
   "toc_cell": false,
   "toc_position": {},
   "toc_section_display": "block",
   "toc_window_display": true
  }
 },
 "nbformat": 4,
 "nbformat_minor": 2
}
