{
 "cells": [
  {
   "cell_type": "code",
   "execution_count": 1,
   "metadata": {},
   "outputs": [],
   "source": [
    "import pandas as pd\n",
    "import numpy as np\n",
    "\n",
    "import matplotlib.pyplot as plt\n",
    "import seaborn as sns\n",
    "%matplotlib inline\n",
    "\n",
    "from sklearn.model_selection import train_test_split\n",
    "\n",
    "from sklearn.feature_selection import mutual_info_classif, mutual_info_regression\n",
    "from sklearn.feature_selection import SelectKBest, SelectPercentile"
   ]
  },
  {
   "cell_type": "code",
   "execution_count": 10,
   "metadata": {},
   "outputs": [
    {
     "data": {
      "text/plain": [
       "(385, 22)"
      ]
     },
     "execution_count": 10,
     "metadata": {},
     "output_type": "execute_result"
    }
   ],
   "source": [
    "# load dataset\n",
    "data = pd.read_csv('./datasets/48_2005-2010__Graduation_Outcomes_-__By_Borough.csv', nrows=50000)\n",
    "data.shape"
   ]
  },
  {
   "cell_type": "code",
   "execution_count": 12,
   "metadata": {},
   "outputs": [
    {
     "data": {
      "text/html": [
       "<div>\n",
       "<style scoped>\n",
       "    .dataframe tbody tr th:only-of-type {\n",
       "        vertical-align: middle;\n",
       "    }\n",
       "\n",
       "    .dataframe tbody tr th {\n",
       "        vertical-align: top;\n",
       "    }\n",
       "\n",
       "    .dataframe thead th {\n",
       "        text-align: right;\n",
       "    }\n",
       "</style>\n",
       "<table border=\"1\" class=\"dataframe\">\n",
       "  <thead>\n",
       "    <tr style=\"text-align: right;\">\n",
       "      <th></th>\n",
       "      <th>Demographic</th>\n",
       "      <th>Borough</th>\n",
       "      <th>Cohort</th>\n",
       "      <th>Total Cohort</th>\n",
       "      <th>Total Grads - n</th>\n",
       "      <th>Total Grads - % of cohort</th>\n",
       "      <th>Total Regents - n</th>\n",
       "      <th>Total Regents - % of cohort</th>\n",
       "      <th>Total Regents - % of grads</th>\n",
       "      <th>Advanced Regents - n</th>\n",
       "      <th>...</th>\n",
       "      <th>Regents w/o Advanced - n</th>\n",
       "      <th>Regents w/o Advanced - % of cohort</th>\n",
       "      <th>Regents w/o Advanced - % of grads</th>\n",
       "      <th>Local - n</th>\n",
       "      <th>Local - % of cohort</th>\n",
       "      <th>Local - % of grads</th>\n",
       "      <th>Still Enrolled - n</th>\n",
       "      <th>Still Enrolled - % of cohort</th>\n",
       "      <th>Dropped Out - n</th>\n",
       "      <th>Dropped Out - % of cohort</th>\n",
       "    </tr>\n",
       "  </thead>\n",
       "  <tbody>\n",
       "    <tr>\n",
       "      <th>0</th>\n",
       "      <td>Borough Total</td>\n",
       "      <td>Bronx</td>\n",
       "      <td>2001</td>\n",
       "      <td>11453</td>\n",
       "      <td>4913</td>\n",
       "      <td>42.9</td>\n",
       "      <td>2644</td>\n",
       "      <td>23.1</td>\n",
       "      <td>53.8</td>\n",
       "      <td>998</td>\n",
       "      <td>...</td>\n",
       "      <td>1646</td>\n",
       "      <td>14.4</td>\n",
       "      <td>33.5</td>\n",
       "      <td>2271</td>\n",
       "      <td>19.8</td>\n",
       "      <td>46.2</td>\n",
       "      <td>3512</td>\n",
       "      <td>30.7</td>\n",
       "      <td>2438</td>\n",
       "      <td>21.3</td>\n",
       "    </tr>\n",
       "    <tr>\n",
       "      <th>1</th>\n",
       "      <td>Borough Total</td>\n",
       "      <td>Bronx</td>\n",
       "      <td>2002</td>\n",
       "      <td>12032</td>\n",
       "      <td>5328</td>\n",
       "      <td>44.3</td>\n",
       "      <td>3118</td>\n",
       "      <td>25.9</td>\n",
       "      <td>58.5</td>\n",
       "      <td>992</td>\n",
       "      <td>...</td>\n",
       "      <td>2126</td>\n",
       "      <td>17.7</td>\n",
       "      <td>39.9</td>\n",
       "      <td>2217</td>\n",
       "      <td>18.4</td>\n",
       "      <td>41.6</td>\n",
       "      <td>4047</td>\n",
       "      <td>33.6</td>\n",
       "      <td>2140</td>\n",
       "      <td>17.8</td>\n",
       "    </tr>\n",
       "    <tr>\n",
       "      <th>2</th>\n",
       "      <td>Borough Total</td>\n",
       "      <td>Bronx</td>\n",
       "      <td>2003</td>\n",
       "      <td>13632</td>\n",
       "      <td>6389</td>\n",
       "      <td>46.9</td>\n",
       "      <td>3861</td>\n",
       "      <td>28.3</td>\n",
       "      <td>60.4</td>\n",
       "      <td>1255</td>\n",
       "      <td>...</td>\n",
       "      <td>2606</td>\n",
       "      <td>19.1</td>\n",
       "      <td>40.8</td>\n",
       "      <td>2528</td>\n",
       "      <td>18.5</td>\n",
       "      <td>39.6</td>\n",
       "      <td>4258</td>\n",
       "      <td>31.2</td>\n",
       "      <td>2472</td>\n",
       "      <td>18.1</td>\n",
       "    </tr>\n",
       "    <tr>\n",
       "      <th>3</th>\n",
       "      <td>Borough Total</td>\n",
       "      <td>Bronx</td>\n",
       "      <td>2004</td>\n",
       "      <td>14364</td>\n",
       "      <td>7448</td>\n",
       "      <td>51.9</td>\n",
       "      <td>4625</td>\n",
       "      <td>32.2</td>\n",
       "      <td>62.1</td>\n",
       "      <td>1395</td>\n",
       "      <td>...</td>\n",
       "      <td>3230</td>\n",
       "      <td>22.5</td>\n",
       "      <td>43.4</td>\n",
       "      <td>2823</td>\n",
       "      <td>19.7</td>\n",
       "      <td>37.9</td>\n",
       "      <td>4169</td>\n",
       "      <td>29.0</td>\n",
       "      <td>2303</td>\n",
       "      <td>16.0</td>\n",
       "    </tr>\n",
       "    <tr>\n",
       "      <th>4</th>\n",
       "      <td>Borough Total</td>\n",
       "      <td>Bronx</td>\n",
       "      <td>2005</td>\n",
       "      <td>15175</td>\n",
       "      <td>8229</td>\n",
       "      <td>54.2</td>\n",
       "      <td>5618</td>\n",
       "      <td>37.0</td>\n",
       "      <td>68.3</td>\n",
       "      <td>1544</td>\n",
       "      <td>...</td>\n",
       "      <td>4074</td>\n",
       "      <td>26.8</td>\n",
       "      <td>49.5</td>\n",
       "      <td>2611</td>\n",
       "      <td>17.2</td>\n",
       "      <td>31.7</td>\n",
       "      <td>3943</td>\n",
       "      <td>26.0</td>\n",
       "      <td>2147</td>\n",
       "      <td>14.1</td>\n",
       "    </tr>\n",
       "  </tbody>\n",
       "</table>\n",
       "<p>5 rows × 22 columns</p>\n",
       "</div>"
      ],
      "text/plain": [
       "     Demographic Borough Cohort  Total Cohort  Total Grads - n  \\\n",
       "0  Borough Total   Bronx   2001         11453             4913   \n",
       "1  Borough Total   Bronx   2002         12032             5328   \n",
       "2  Borough Total   Bronx   2003         13632             6389   \n",
       "3  Borough Total   Bronx   2004         14364             7448   \n",
       "4  Borough Total   Bronx   2005         15175             8229   \n",
       "\n",
       "   Total Grads - % of cohort  Total Regents - n  Total Regents - % of cohort  \\\n",
       "0                       42.9               2644                         23.1   \n",
       "1                       44.3               3118                         25.9   \n",
       "2                       46.9               3861                         28.3   \n",
       "3                       51.9               4625                         32.2   \n",
       "4                       54.2               5618                         37.0   \n",
       "\n",
       "   Total Regents - % of grads  Advanced Regents - n  ...  \\\n",
       "0                        53.8                   998  ...   \n",
       "1                        58.5                   992  ...   \n",
       "2                        60.4                  1255  ...   \n",
       "3                        62.1                  1395  ...   \n",
       "4                        68.3                  1544  ...   \n",
       "\n",
       "   Regents w/o Advanced - n  Regents w/o Advanced - % of cohort  \\\n",
       "0                      1646                                14.4   \n",
       "1                      2126                                17.7   \n",
       "2                      2606                                19.1   \n",
       "3                      3230                                22.5   \n",
       "4                      4074                                26.8   \n",
       "\n",
       "   Regents w/o Advanced - % of grads  Local - n  Local - % of cohort  \\\n",
       "0                               33.5       2271                 19.8   \n",
       "1                               39.9       2217                 18.4   \n",
       "2                               40.8       2528                 18.5   \n",
       "3                               43.4       2823                 19.7   \n",
       "4                               49.5       2611                 17.2   \n",
       "\n",
       "   Local - % of grads  Still Enrolled - n  Still Enrolled - % of cohort  \\\n",
       "0                46.2                3512                          30.7   \n",
       "1                41.6                4047                          33.6   \n",
       "2                39.6                4258                          31.2   \n",
       "3                37.9                4169                          29.0   \n",
       "4                31.7                3943                          26.0   \n",
       "\n",
       "   Dropped Out - n  Dropped Out - % of cohort  \n",
       "0             2438                       21.3  \n",
       "1             2140                       17.8  \n",
       "2             2472                       18.1  \n",
       "3             2303                       16.0  \n",
       "4             2147                       14.1  \n",
       "\n",
       "[5 rows x 22 columns]"
      ]
     },
     "execution_count": 12,
     "metadata": {},
     "output_type": "execute_result"
    }
   ],
   "source": [
    "data.head()"
   ]
  },
  {
   "cell_type": "code",
   "execution_count": 13,
   "metadata": {},
   "outputs": [
    {
     "data": {
      "text/plain": [
       "(385, 19)"
      ]
     },
     "execution_count": 13,
     "metadata": {},
     "output_type": "execute_result"
    }
   ],
   "source": [
    "# In practice, feature selection should be done after data pre-processing,\n",
    "# so ideally, all the categorical variables are encoded into numbers,\n",
    "# and then you can assess how deterministic they are of the target\n",
    "\n",
    "# here for simplicity I will use only numerical variables\n",
    "# select numerical columns:\n",
    "\n",
    "numerics = ['int16', 'int32', 'int64', 'float16', 'float32', 'float64']\n",
    "numerical_vars = list(data.select_dtypes(include=numerics).columns)\n",
    "data = data[numerical_vars]\n",
    "data.shape"
   ]
  },
  {
   "cell_type": "markdown",
   "metadata": {},
   "source": [
    "### Important\n",
    "\n",
    "In all feature selection procedures, it is good practice to select the features by examining only the training set. And this is to avoid overfit."
   ]
  },
  {
   "cell_type": "code",
   "execution_count": 28,
   "metadata": {},
   "outputs": [
    {
     "data": {
      "text/plain": [
       "((269, 17), (116, 17))"
      ]
     },
     "execution_count": 28,
     "metadata": {},
     "output_type": "execute_result"
    }
   ],
   "source": [
    "# separate train and test sets\n",
    "X_train, X_test, y_train, y_test = train_test_split(\n",
    "    data.drop(labels=['Dropped Out - n','Still Enrolled - n'], axis=1),\n",
    "    data['Dropped Out - n'],\n",
    "    test_size=0.3,\n",
    "    random_state=0)\n",
    "\n",
    "X_train.shape, X_test.shape"
   ]
  },
  {
   "cell_type": "code",
   "execution_count": 29,
   "metadata": {},
   "outputs": [
    {
     "data": {
      "text/plain": [
       "array([1.80080145, 1.26654831, 0.8125271 , 1.30114537, 1.1428555 ,\n",
       "       1.21647388, 1.47563162, 1.67521881, 1.59047033, 1.2561661 ,\n",
       "       0.80829672, 1.14453636, 1.13289017, 0.87376167, 1.26698246,\n",
       "       0.41332473, 1.47061841])"
      ]
     },
     "execution_count": 29,
     "metadata": {},
     "output_type": "execute_result"
    }
   ],
   "source": [
    "# calculate the mutual information between the variables and the target\n",
    "# this returns the mutual information value of each feature\n",
    "# the smaller the value the less information the feature has about the\n",
    "# target\n",
    "mi = mutual_info_classif(X_train.fillna(0), y_train)\n",
    "mi"
   ]
  },
  {
   "cell_type": "code",
   "execution_count": 30,
   "metadata": {
    "scrolled": true
   },
   "outputs": [
    {
     "data": {
      "text/plain": [
       "Total Cohort                          1.800801\n",
       "Advanced Regents - % of cohort        1.675219\n",
       "Advanced Regents - % of grads         1.590470\n",
       "Advanced Regents - n                  1.475632\n",
       "Dropped Out - % of cohort             1.470618\n",
       "Total Regents - n                     1.301145\n",
       "Local - % of grads                    1.266982\n",
       "Total Grads - n                       1.266548\n",
       "Regents w/o Advanced - n              1.256166\n",
       "Total Regents - % of grads            1.216474\n",
       "Regents w/o Advanced - % of grads     1.144536\n",
       "Total Regents - % of cohort           1.142856\n",
       "Local - n                             1.132890\n",
       "Local - % of cohort                   0.873762\n",
       "Total Grads - % of cohort             0.812527\n",
       "Regents w/o Advanced - % of cohort    0.808297\n",
       "Still Enrolled - % of cohort          0.413325\n",
       "dtype: float64"
      ]
     },
     "execution_count": 30,
     "metadata": {},
     "output_type": "execute_result"
    }
   ],
   "source": [
    "# let's add the variable names and order the features\n",
    "# according to the MI for clearer visualisation\n",
    "mi = pd.Series(mi)\n",
    "mi.index = X_train.columns\n",
    "mi.sort_values(ascending=False)"
   ]
  },
  {
   "cell_type": "code",
   "execution_count": 31,
   "metadata": {},
   "outputs": [
    {
     "data": {
      "text/plain": [
       "<matplotlib.axes._subplots.AxesSubplot at 0x119a47a20>"
      ]
     },
     "execution_count": 31,
     "metadata": {},
     "output_type": "execute_result"
    },
    {
     "data": {
      "image/png": "[encoded data removed]",
      "text/plain": [
       "<Figure size 1440x576 with 1 Axes>"
      ]
     },
     "metadata": {
      "needs_background": "light"
     },
     "output_type": "display_data"
    }
   ],
   "source": [
    "# and now let's plot the ordered MI values per feature\n",
    "mi.sort_values(ascending=False).plot.bar(figsize=(20, 8))"
   ]
  },
  {
   "cell_type": "code",
   "execution_count": 18,
   "metadata": {},
   "outputs": [
    {
     "data": {
      "text/plain": [
       "Index(['Total Cohort', 'Total Grads - n', 'Total Regents - n',\n",
       "       'Advanced Regents - n', 'Advanced Regents - % of cohort',\n",
       "       'Advanced Regents - % of grads', 'Local - n', 'Local - % of grads',\n",
       "       'Still Enrolled - n', 'Dropped Out - % of cohort'],\n",
       "      dtype='object')"
      ]
     },
     "execution_count": 18,
     "metadata": {},
     "output_type": "execute_result"
    }
   ],
   "source": [
    "# here I will select the top 10 features\n",
    "# which are shown below\n",
    "sel_ = SelectKBest(mutual_info_classif, k=10).fit(X_train.fillna(0), y_train)\n",
    "X_train.columns[sel_.get_support()]"
   ]
  },
  {
   "cell_type": "markdown",
   "metadata": {},
   "source": [
    "### Regression"
   ]
  },
  {
   "cell_type": "code",
   "execution_count": 19,
   "metadata": {},
   "outputs": [
    {
     "data": {
      "text/plain": [
       "(385, 19)"
      ]
     },
     "execution_count": 19,
     "metadata": {},
     "output_type": "execute_result"
    }
   ],
   "source": [
    "# load dataset\n",
    "data.shape"
   ]
  },
  {
   "cell_type": "code",
   "execution_count": 20,
   "metadata": {},
   "outputs": [
    {
     "data": {
      "text/plain": [
       "(385, 19)"
      ]
     },
     "execution_count": 20,
     "metadata": {},
     "output_type": "execute_result"
    }
   ],
   "source": [
    "# In practice, feature selection should be done after data pre-processing,\n",
    "# so ideally, all the categorical variables are encoded into numbers,\n",
    "# and then you can assess how deterministic they are of the target\n",
    "\n",
    "# here for simplicity I will use only numerical variables\n",
    "# select numerical columns:\n",
    "\n",
    "numerics = ['int16', 'int32', 'int64', 'float16', 'float32', 'float64']\n",
    "numerical_vars = list(data.select_dtypes(include=numerics).columns)\n",
    "data = data[numerical_vars]\n",
    "data.shape"
   ]
  },
  {
   "cell_type": "code",
   "execution_count": 22,
   "metadata": {},
   "outputs": [
    {
     "data": {
      "text/plain": [
       "((269, 18), (116, 18))"
      ]
     },
     "execution_count": 22,
     "metadata": {},
     "output_type": "execute_result"
    }
   ],
   "source": [
    "# separate train and test sets\n",
    "X_train, X_test, y_train, y_test = train_test_split(\n",
    "    data.drop(labels=['Dropped Out - n'], axis=1),\n",
    "    data['Dropped Out - n'],\n",
    "    test_size=0.3,\n",
    "    random_state=0)\n",
    "\n",
    "X_train.shape, X_test.shape"
   ]
  },
  {
   "cell_type": "code",
   "execution_count": 23,
   "metadata": {
    "scrolled": true
   },
   "outputs": [
    {
     "data": {
      "text/plain": [
       "Still Enrolled - n                    1.612161\n",
       "Total Cohort                          1.361920\n",
       "Local - n                             1.331717\n",
       "Total Grads - n                       0.926894\n",
       "Advanced Regents - % of cohort        0.905105\n",
       "Advanced Regents - n                  0.897454\n",
       "Regents w/o Advanced - n              0.758635\n",
       "Advanced Regents - % of grads         0.734202\n",
       "Total Regents - n                     0.675304\n",
       "Dropped Out - % of cohort             0.561738\n",
       "Total Regents - % of cohort           0.523828\n",
       "Total Grads - % of cohort             0.497327\n",
       "Local - % of grads                    0.455577\n",
       "Total Regents - % of grads            0.452858\n",
       "Still Enrolled - % of cohort          0.373781\n",
       "Regents w/o Advanced - % of grads     0.267140\n",
       "Regents w/o Advanced - % of cohort    0.200505\n",
       "Local - % of cohort                   0.123995\n",
       "dtype: float64"
      ]
     },
     "execution_count": 23,
     "metadata": {},
     "output_type": "execute_result"
    }
   ],
   "source": [
    "# determine the mutual information\n",
    "mi = mutual_info_regression(X_train.fillna(0), y_train)\n",
    "mi = pd.Series(mi)\n",
    "mi.index = X_train.columns\n",
    "mi.sort_values(ascending=False)"
   ]
  },
  {
   "cell_type": "code",
   "execution_count": 24,
   "metadata": {},
   "outputs": [
    {
     "data": {
      "text/plain": [
       "<matplotlib.axes._subplots.AxesSubplot at 0x1196ee390>"
      ]
     },
     "execution_count": 24,
     "metadata": {},
     "output_type": "execute_result"
    },
    {
     "data": {
      "image/png": "[encoded data removed]",
      "text/plain": [
       "<Figure size 1440x576 with 1 Axes>"
      ]
     },
     "metadata": {
      "needs_background": "light"
     },
     "output_type": "display_data"
    }
   ],
   "source": [
    "mi.sort_values(ascending=False).plot.bar(figsize=(20,8))"
   ]
  },
  {
   "cell_type": "code",
   "execution_count": 26,
   "metadata": {},
   "outputs": [
    {
     "data": {
      "text/plain": [
       "Index(['Total Cohort', 'Still Enrolled - n'], dtype='object')"
      ]
     },
     "execution_count": 26,
     "metadata": {},
     "output_type": "execute_result"
    }
   ],
   "source": [
    "# here I will select the top 10 percentile\n",
    "sel_ = SelectPercentile(mutual_info_regression, percentile=10).fit(X_train.fillna(0), y_train)\n",
    "X_train.columns[sel_.get_support()]"
   ]
  },
  {
   "cell_type": "markdown",
   "metadata": {},
   "source": [
    "I have not personally used mutual information in any of my projects. However, there is some value in the method. See for example:\n",
    "\n",
    "Comparison between univariate and mutual information selection in [sklean website](http://scikit-learn.org/stable/auto_examples/feature_selection/plot_f_test_vs_mi.html#sphx-glr-auto-examples-feature-selection-plot-f-test-vs-mi-py)\n",
    "\n",
    "In addition, mutual information has been widely covered, if anything else from a theoretical perspective, in several articles that I share in the additional reading resources section. Therefore I wanted to have it covered in the course, and I leave it up to you to explore it and see if you find any use in it.\n",
    "\n",
    "That is all for this lecture, I hope you enjoyed it and see you in the next one!"
   ]
  },
  {
   "cell_type": "code",
   "execution_count": null,
   "metadata": {},
   "outputs": [],
   "source": []
  }
 ],
 "metadata": {
  "kernelspec": {
   "display_name": "Python 3",
   "language": "python",
   "name": "python3"
  },
  "language_info": {
   "codemirror_mode": {
    "name": "ipython",
    "version": 3
   },
   "file_extension": ".py",
   "mimetype": "text/x-python",
   "name": "python",
   "nbconvert_exporter": "python",
   "pygments_lexer": "ipython3",
   "version": "3.7.3"
  },
  "toc": {
   "nav_menu": {},
   "number_sections": true,
   "sideBar": true,
   "skip_h1_title": false,
   "toc_cell": false,
   "toc_position": {},
   "toc_section_display": "block",
   "toc_window_display": true
  }
 },
 "nbformat": 4,
 "nbformat_minor": 2
}
