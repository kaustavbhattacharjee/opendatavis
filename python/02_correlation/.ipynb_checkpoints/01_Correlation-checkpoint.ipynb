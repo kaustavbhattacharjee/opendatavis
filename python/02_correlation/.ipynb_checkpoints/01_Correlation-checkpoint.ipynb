{
 "cells": [
  {
   "cell_type": "code",
   "execution_count": 47,
   "metadata": {},
   "outputs": [
    {
     "data": {
      "text/plain": [
       "{'02_2015_-_2018_Demographic_Snapshot_Pre-_K_For_All.csv': {'% Asian': {'Total Enrollment': 0.08526815728176701,\n",
       "   '# Asian': 0.7811028127704234,\n",
       "   '# Black': -0.3118895332081103,\n",
       "   '% Black': -0.397671102259122,\n",
       "   '# Hispanic': -0.16178694960717743,\n",
       "   '% Hispanic': -0.31762067022006,\n",
       "   '# White': -0.062345459313322395,\n",
       "   '% White': -0.10996295634099008,\n",
       "   '# Multiple Race Categories Not Represented': 0.04833535399478248,\n",
       "   '% Multiple Race Categories Not Represented': 0.017158006566175672,\n",
       "   '# Female': 0.07181663379532087,\n",
       "   '% Female': -0.0119385270715892,\n",
       "   '# Male': 0.09211098699527905,\n",
       "   '% Male': 0.011917667465430264}},\n",
       " '04_2013_-_2018_Demographic_Snapshot_District.csv': {'% Asian': {'Administrative District': 0.011412358493997932,\n",
       "   'Total Enrollment': 0.2807529244521226,\n",
       "   'Grade PK (Half Day & Full Day)': 0.3976351838328407,\n",
       "   'Grade K': 0.14620068887615,\n",
       "   'Grade 1': 0.13338559953862028,\n",
       "   'Grade 2': 0.14586411024032178,\n",
       "   'Grade 3': 0.16544183565638335,\n",
       "   'Grade 4': 0.19386800870603393,\n",
       "   'Grade 5': 0.1818110604161484,\n",
       "   'Grade 6': 0.18234303917838732,\n",
       "   'Grade 7': 0.19781147207505304,\n",
       "   'Grade 8': 0.2338925061735612,\n",
       "   'Grade 9': 0.3778851709250012,\n",
       "   'Grade 10': 0.36936134938636644,\n",
       "   'Grade 11': 0.3925752670362904,\n",
       "   'Grade 12': 0.3662480493529134,\n",
       "   '# Female': 0.2746741604848217,\n",
       "   '% Female': 0.09777719118121408,\n",
       "   '# Male': 0.2836985981270102,\n",
       "   '% Male': -0.09813612104115448,\n",
       "   '# Asian': 0.9259966101794767,\n",
       "   '# Black': -0.2469584969113765,\n",
       "   '% Black': -0.4965666860285327,\n",
       "   '# Hispanic': -0.05117716166353976,\n",
       "   '% Hispanic': -0.37458543133548194,\n",
       "   '# Multiple Race Categories Not Represented': 0.29906162010465936,\n",
       "   '% Multiple Race Categories Not Represented': 0.22669498190408321,\n",
       "   '# White': 0.3893509379665533,\n",
       "   '% White': 0.4636373122178885,\n",
       "   '# Students with Disabilities': 0.010354624281370886,\n",
       "   '% Students with Disabilities': -0.23133583608231315,\n",
       "   '# English Language Learners': 0.3092932631342274,\n",
       "   '% English Language Learners': 0.06250080531097603,\n",
       "   '# Poverty': 0.16091415585497998,\n",
       "   '% Poverty': -0.49883478365780914}}}"
      ]
     },
     "execution_count": 47,
     "metadata": {},
     "output_type": "execute_result"
    }
   ],
   "source": [
    "import pandas as pd\n",
    "corr_dict={}\n",
    "given=[['02_2015_-_2018_Demographic_Snapshot_Pre-_K_For_All.csv','04_2013_-_2018_Demographic_Snapshot_District.csv'],['Total Enrollment','% Asian']]\n",
    "numerics = ['int16', 'int32', 'int64', 'float16', 'float32', 'float64']\n",
    "for dataset in given[0]:\n",
    "    data=pd.read_csv(dataset)\n",
    "    numerical_vars = list(data.select_dtypes(include=numerics).columns)\n",
    "    data = data[numerical_vars]\n",
    "    dict={}\n",
    "    total_rows=data.shape[0]\n",
    "    for att in given[1]:\n",
    "        if att in data.columns:\n",
    "            corr_dict[dataset]={att:data.corr()[att].drop(att,axis=0).to_dict()}\n",
    "            #print(dataset,att,\"\\n\",data.corr()[att].drop(att,axis=0))\n",
    "corr_dict\n",
    "            \n",
    "            \n",
    "            "
   ]
  },
  {
   "cell_type": "code",
   "execution_count": null,
   "metadata": {},
   "outputs": [],
   "source": []
  }
 ],
 "metadata": {
  "kernelspec": {
   "display_name": "Python 3",
   "language": "python",
   "name": "python3"
  },
  "language_info": {
   "codemirror_mode": {
    "name": "ipython",
    "version": 3
   },
   "file_extension": ".py",
   "mimetype": "text/x-python",
   "name": "python",
   "nbconvert_exporter": "python",
   "pygments_lexer": "ipython3",
   "version": "3.7.3"
  },
  "toc": {
   "nav_menu": {},
   "number_sections": true,
   "sideBar": true,
   "skip_h1_title": false,
   "toc_cell": false,
   "toc_position": {},
   "toc_section_display": "block",
   "toc_window_display": true
  }
 },
 "nbformat": 4,
 "nbformat_minor": 2
}
