{
 "cells": [
  {
   "cell_type": "code",
   "execution_count": 1,
   "metadata": {},
   "outputs": [],
   "source": [
    "import numpy as np\n",
    "import pandas as pd\n",
    "\n",
    "# to split the datasets\n",
    "from sklearn.model_selection import train_test_split\n",
    "\n",
    "# for one hot encoding with feature-engine\n",
    "from feature_engine.categorical_encoders import OneHotCategoricalEncoder"
   ]
  },
  {
   "cell_type": "code",
   "execution_count": 2,
   "metadata": {},
   "outputs": [],
   "source": [
    "data=pd.read_csv(\"02_2015_-_2018_Demographic_Snapshot_Pre-_K_For_All.csv\")"
   ]
  },
  {
   "cell_type": "code",
   "execution_count": 3,
   "metadata": {},
   "outputs": [
    {
     "data": {
      "text/plain": [
       "3"
      ]
     },
     "execution_count": 3,
     "metadata": {},
     "output_type": "execute_result"
    }
   ],
   "source": [
    "len(data[\"Year\"].unique())"
   ]
  },
  {
   "cell_type": "code",
   "execution_count": 4,
   "metadata": {},
   "outputs": [
    {
     "data": {
      "text/plain": [
       "array(['2015-16', '2016-17', '2017-18'], dtype=object)"
      ]
     },
     "execution_count": 4,
     "metadata": {},
     "output_type": "execute_result"
    }
   ],
   "source": [
    "data[\"Year\"].unique()"
   ]
  },
  {
   "cell_type": "code",
   "execution_count": 5,
   "metadata": {},
   "outputs": [
    {
     "name": "stdout",
     "output_type": "stream",
     "text": [
      "      Total Enrollment     Year\n",
      "0                   14  2015-16\n",
      "3                   21  2015-16\n",
      "6                   46  2015-16\n",
      "9                   18  2015-16\n",
      "12                  15  2015-16\n",
      "15                  20  2015-16\n",
      "18                  29  2015-16\n",
      "21                  15  2015-16\n",
      "24                  10  2015-16\n",
      "25                  13  2015-16\n",
      "28                  22  2015-16\n",
      "31                  36  2015-16\n",
      "34                  31  2015-16\n",
      "37                  36  2015-16\n",
      "40                  33  2015-16\n",
      "43                  16  2015-16\n",
      "46                  36  2015-16\n",
      "49                  28  2015-16\n",
      "52                  21  2015-16\n",
      "55                  53  2015-16\n",
      "60                  18  2015-16\n",
      "63                  30  2015-16\n",
      "66                  36  2015-16\n",
      "69                  36  2015-16\n",
      "72                  46  2015-16\n",
      "75                  48  2015-16\n",
      "79                  36  2015-16\n",
      "82                  37  2015-16\n",
      "85                  47  2015-16\n",
      "88                  71  2015-16\n",
      "...                ...      ...\n",
      "5344                45  2015-16\n",
      "5346                51  2015-16\n",
      "5347                13  2015-16\n",
      "5350                42  2015-16\n",
      "5353                11  2015-16\n",
      "5354                28  2015-16\n",
      "5355                 9  2015-16\n",
      "5357                36  2015-16\n",
      "5360                32  2015-16\n",
      "5361                30  2015-16\n",
      "5362                26  2015-16\n",
      "5365                25  2015-16\n",
      "5368                34  2015-16\n",
      "5371                80  2015-16\n",
      "5374                59  2015-16\n",
      "5377                20  2015-16\n",
      "5380                20  2015-16\n",
      "5383               124  2015-16\n",
      "5386               121  2015-16\n",
      "5389               136  2015-16\n",
      "5392                38  2015-16\n",
      "5395                23  2015-16\n",
      "5398                19  2015-16\n",
      "5401               484  2015-16\n",
      "5402                33  2015-16\n",
      "5405                45  2015-16\n",
      "5407                27  2015-16\n",
      "5409                 4  2015-16\n",
      "5410               135  2015-16\n",
      "5413                31  2015-16\n",
      "\n",
      "[1822 rows x 2 columns]\n",
      "      Total Enrollment     Year\n",
      "1                   17  2016-17\n",
      "4                   24  2016-17\n",
      "7                   41  2016-17\n",
      "10                  13  2016-17\n",
      "13                  22  2016-17\n",
      "16                  21  2016-17\n",
      "19                  32  2016-17\n",
      "22                  22  2016-17\n",
      "26                  18  2016-17\n",
      "29                  34  2016-17\n",
      "32                  36  2016-17\n",
      "35                  29  2016-17\n",
      "38                  36  2016-17\n",
      "41                  35  2016-17\n",
      "44                  18  2016-17\n",
      "47                  36  2016-17\n",
      "50                  34  2016-17\n",
      "53                  36  2016-17\n",
      "56                  50  2016-17\n",
      "58                  40  2016-17\n",
      "61                  18  2016-17\n",
      "64                  34  2016-17\n",
      "67                  35  2016-17\n",
      "70                  36  2016-17\n",
      "73                  38  2016-17\n",
      "76                  49  2016-17\n",
      "80                  36  2016-17\n",
      "83                  43  2016-17\n",
      "86                  46  2016-17\n",
      "89                  71  2016-17\n",
      "...                ...      ...\n",
      "5375               118  2016-17\n",
      "5378                57  2016-17\n",
      "5381                20  2016-17\n",
      "5384               209  2016-17\n",
      "5387               114  2016-17\n",
      "5390               225  2016-17\n",
      "5393                56  2016-17\n",
      "5396                61  2016-17\n",
      "5399                28  2016-17\n",
      "5403                20  2016-17\n",
      "5406                33  2016-17\n",
      "5408                33  2016-17\n",
      "5411               174  2016-17\n",
      "5414                38  2016-17\n",
      "5417                56  2016-17\n",
      "5419                27  2016-17\n",
      "5421                26  2016-17\n",
      "5423                29  2016-17\n",
      "5425                88  2016-17\n",
      "5427                30  2016-17\n",
      "5429                67  2016-17\n",
      "5431                43  2016-17\n",
      "5433               162  2016-17\n",
      "5435               102  2016-17\n",
      "5437               140  2016-17\n",
      "5438                38  2016-17\n",
      "5440                42  2016-17\n",
      "5441                70  2016-17\n",
      "5443                67  2016-17\n",
      "5445                18  2016-17\n",
      "\n",
      "[1834 rows x 2 columns]\n",
      "      Total Enrollment     Year\n",
      "2                   17  2017-18\n",
      "5                   13  2017-18\n",
      "8                   34  2017-18\n",
      "11                  13  2017-18\n",
      "14                  26  2017-18\n",
      "17                  35  2017-18\n",
      "20                  30  2017-18\n",
      "23                  20  2017-18\n",
      "27                  18  2017-18\n",
      "30                  32  2017-18\n",
      "33                  35  2017-18\n",
      "36                  19  2017-18\n",
      "39                  36  2017-18\n",
      "42                  36  2017-18\n",
      "45                  18  2017-18\n",
      "48                  35  2017-18\n",
      "51                  24  2017-18\n",
      "54                  22  2017-18\n",
      "57                  54  2017-18\n",
      "59                  78  2017-18\n",
      "62                  18  2017-18\n",
      "65                  36  2017-18\n",
      "68                  36  2017-18\n",
      "71                  36  2017-18\n",
      "74                  42  2017-18\n",
      "77                  68  2017-18\n",
      "78                  20  2017-18\n",
      "81                  36  2017-18\n",
      "84                  46  2017-18\n",
      "87                  47  2017-18\n",
      "...                ...      ...\n",
      "5397                32  2017-18\n",
      "5400                29  2017-18\n",
      "5404                32  2017-18\n",
      "5412               179  2017-18\n",
      "5415                24  2017-18\n",
      "5416                18  2017-18\n",
      "5418                70  2017-18\n",
      "5420                30  2017-18\n",
      "5422                54  2017-18\n",
      "5424                46  2017-18\n",
      "5426                98  2017-18\n",
      "5428                62  2017-18\n",
      "5430                62  2017-18\n",
      "5432                49  2017-18\n",
      "5434               174  2017-18\n",
      "5436                58  2017-18\n",
      "5439                37  2017-18\n",
      "5442                65  2017-18\n",
      "5444                87  2017-18\n",
      "5446                49  2017-18\n",
      "5447                22  2017-18\n",
      "5448                26  2017-18\n",
      "5449                48  2017-18\n",
      "5450                11  2017-18\n",
      "5451                73  2017-18\n",
      "5452                32  2017-18\n",
      "5453                35  2017-18\n",
      "5454               123  2017-18\n",
      "5455                11  2017-18\n",
      "5456                74  2017-18\n",
      "\n",
      "[1801 rows x 2 columns]\n"
     ]
    }
   ],
   "source": [
    "dict={}\n",
    "mydata=data[[\"Total Enrollment\",\"Year\"]]\n",
    "for unique_val in mydata[\"Year\"].unique():\n",
    "    print(mydata.loc[mydata[\"Year\"]==unique_val])"
   ]
  },
  {
   "cell_type": "code",
   "execution_count": 6,
   "metadata": {},
   "outputs": [
    {
     "data": {
      "text/plain": [
       "Index(['Site ID', 'Site Name', 'Site Type', 'Year', 'Total Enrollment',\n",
       "       '# Asian', '% Asian', '# Black', '% Black', '# Hispanic', '% Hispanic',\n",
       "       '# White', '% White', '# Multiple Race Categories Not Represented',\n",
       "       '% Multiple Race Categories Not Represented', '# Female', '% Female',\n",
       "       '# Male', '% Male'],\n",
       "      dtype='object')"
      ]
     },
     "execution_count": 6,
     "metadata": {},
     "output_type": "execute_result"
    }
   ],
   "source": [
    "data.columns"
   ]
  },
  {
   "cell_type": "code",
   "execution_count": 7,
   "metadata": {},
   "outputs": [],
   "source": [
    "data2=data.drop(labels=['% Asian'], axis=1)"
   ]
  },
  {
   "cell_type": "code",
   "execution_count": 8,
   "metadata": {},
   "outputs": [
    {
     "data": {
      "text/plain": [
       "(5457, 15)"
      ]
     },
     "execution_count": 8,
     "metadata": {},
     "output_type": "execute_result"
    }
   ],
   "source": [
    "numerics = ['int16', 'int32', 'int64', 'float16', 'float32', 'float64']\n",
    "numerical_vars = list(data.select_dtypes(include=numerics).columns)\n",
    "data = data[numerical_vars]\n",
    "data.shape"
   ]
  },
  {
   "cell_type": "code",
   "execution_count": null,
   "metadata": {},
   "outputs": [],
   "source": []
  },
  {
   "cell_type": "code",
   "execution_count": null,
   "metadata": {},
   "outputs": [],
   "source": []
  },
  {
   "cell_type": "code",
   "execution_count": null,
   "metadata": {},
   "outputs": [],
   "source": []
  },
  {
   "cell_type": "code",
   "execution_count": null,
   "metadata": {},
   "outputs": [],
   "source": []
  },
  {
   "cell_type": "code",
   "execution_count": 28,
   "metadata": {},
   "outputs": [
    {
     "data": {
      "text/plain": [
       "18"
      ]
     },
     "execution_count": 28,
     "metadata": {},
     "output_type": "execute_result"
    }
   ],
   "source": [
    "len(data2.columns)"
   ]
  },
  {
   "cell_type": "code",
   "execution_count": 29,
   "metadata": {},
   "outputs": [
    {
     "data": {
      "text/plain": [
       "19"
      ]
     },
     "execution_count": 29,
     "metadata": {},
     "output_type": "execute_result"
    }
   ],
   "source": [
    "len(data.columns)"
   ]
  },
  {
   "cell_type": "code",
   "execution_count": 7,
   "metadata": {},
   "outputs": [
    {
     "data": {
      "text/plain": [
       "(5457,)"
      ]
     },
     "execution_count": 7,
     "metadata": {},
     "output_type": "execute_result"
    }
   ],
   "source": [
    "data[\"Year\"].shape"
   ]
  },
  {
   "cell_type": "code",
   "execution_count": 10,
   "metadata": {},
   "outputs": [
    {
     "data": {
      "text/plain": [
       "0.054975261132490384"
      ]
     },
     "execution_count": 10,
     "metadata": {},
     "output_type": "execute_result"
    }
   ],
   "source": [
    "len(data[\"Year\"].unique())/len(data[\"Year\"])*100"
   ]
  },
  {
   "cell_type": "code",
   "execution_count": 13,
   "metadata": {},
   "outputs": [
    {
     "name": "stdout",
     "output_type": "stream",
     "text": [
      "Column:  Site ID  contains  1979  unique values\n",
      "Column:  Site Name  contains  2441  unique values\n",
      "Column:  Site Type  contains  6  unique values\n",
      "Column:  Year  contains  3  unique values\n",
      "Column:  Total Enrollment  contains  159  unique values\n",
      "Column:  # Asian  contains  89  unique values\n",
      "Column:  % Asian  contains  591  unique values\n",
      "Column:  # Black  contains  86  unique values\n",
      "Column:  % Black  contains  696  unique values\n",
      "Column:  # Hispanic  contains  106  unique values\n",
      "Column:  % Hispanic  contains  791  unique values\n",
      "Column:  # White  contains  88  unique values\n",
      "Column:  % White  contains  597  unique values\n",
      "Column:  # Multiple Race Categories Not Represented  contains  25  unique values\n",
      "Column:  % Multiple Race Categories Not Represented  contains  206  unique values\n",
      "Column:  # Female  contains  92  unique values\n",
      "Column:  % Female  contains  410  unique values\n",
      "Column:  # Male  contains  92  unique values\n",
      "Column:  % Male  contains  409  unique values\n"
     ]
    }
   ],
   "source": [
    "for col in data.columns:\n",
    "    print(\"Column: \",col,\" contains \", len(data[col].unique()),\" unique values\")"
   ]
  },
  {
   "cell_type": "code",
   "execution_count": null,
   "metadata": {},
   "outputs": [],
   "source": []
  }
 ],
 "metadata": {
  "kernelspec": {
   "display_name": "Python 3",
   "language": "python",
   "name": "python3"
  },
  "language_info": {
   "codemirror_mode": {
    "name": "ipython",
    "version": 3
   },
   "file_extension": ".py",
   "mimetype": "text/x-python",
   "name": "python",
   "nbconvert_exporter": "python",
   "pygments_lexer": "ipython3",
   "version": "3.7.3"
  }
 },
 "nbformat": 4,
 "nbformat_minor": 2
}
