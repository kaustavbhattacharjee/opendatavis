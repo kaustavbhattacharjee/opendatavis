{
 "cells": [
  {
   "cell_type": "code",
   "execution_count": 5,
   "metadata": {},
   "outputs": [],
   "source": [
    "from pandas import DataFrame, read_csv\n",
    "import pandas as pd\n",
    "import numpy as np"
   ]
  },
  {
   "cell_type": "code",
   "execution_count": 6,
   "metadata": {},
   "outputs": [],
   "source": [
    "data=pd.read_csv('01_2013-2014_-_2017-_2018_Demographic_Snapshot_Citywide.csv')"
   ]
  },
  {
   "cell_type": "code",
   "execution_count": 7,
   "metadata": {},
   "outputs": [
    {
     "name": "stdout",
     "output_type": "stream",
     "text": [
      "{'number_of_rows': 5, 'number_of_columns': 37, 'attributes': array(['Year', 'Total Enrollment', 'Grade PK (Half Day & Full Day)',\n",
      "       'Grade K', 'Grade 1', 'Grade 2', 'Grade 3', 'Grade 4', 'Grade 5',\n",
      "       'Grade 6', 'Grade 7', 'Grade 8', 'Grade 9', 'Grade 10', 'Grade 11',\n",
      "       'Grade 12', '# Female', '% Female', '# Male', '% Male', '# Asian',\n",
      "       '% Asian', '# Black', '% Black', '# Hispanic', '% Hispanic',\n",
      "       '# Multiple Race Categories Not Represented',\n",
      "       '% Multiple Race Categories Not Represented', '# White', '% White',\n",
      "       '# Students with Disabilities', '% Students with Disabilities',\n",
      "       '# English Language Learners', '% English Language Learners',\n",
      "       '# Poverty', '% Poverty', 'Economic Need Index'], dtype='<U42')}\n"
     ]
    }
   ],
   "source": [
    "def item_process(data):\n",
    "    dict1={}\n",
    "    dict2=[]\n",
    "    count=0;\n",
    "    dict1[\"number_of_rows\"]=data.shape[0];\n",
    "    dict1[\"number_of_columns\"]=data.shape[1];\n",
    "    for columns in data.columns:\n",
    "        count=count+1\n",
    "        dict2.insert(count,columns);\n",
    "    dict1[\"attributes\"]=np.asarray(dict2)\n",
    "    print(dict1)\n",
    "item_process(data)"
   ]
  },
  {
   "cell_type": "code",
   "execution_count": null,
   "metadata": {},
   "outputs": [],
   "source": []
  }
 ],
 "metadata": {
  "kernelspec": {
   "display_name": "Python 3",
   "language": "python",
   "name": "python3"
  },
  "language_info": {
   "codemirror_mode": {
    "name": "ipython",
    "version": 3
   },
   "file_extension": ".py",
   "mimetype": "text/x-python",
   "name": "python",
   "nbconvert_exporter": "python",
   "pygments_lexer": "ipython3",
   "version": "3.7.3"
  }
 },
 "nbformat": 4,
 "nbformat_minor": 2
}
