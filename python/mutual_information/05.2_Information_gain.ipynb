{
 "cells": [
  {
   "cell_type": "code",
   "execution_count": 2,
   "metadata": {},
   "outputs": [],
   "source": [
    "import pandas as pd\n",
    "import numpy as np\n",
    "\n",
    "import matplotlib.pyplot as plt\n",
    "import seaborn as sns\n",
    "%matplotlib inline\n",
    "from sklearn.model_selection import train_test_split\n",
    "from sklearn.feature_selection import mutual_info_classif, mutual_info_regression\n",
    "from sklearn.feature_selection import SelectKBest, SelectPercentile\n",
    "import glob\n",
    "import sys\n",
    "import os"
   ]
  },
  {
   "cell_type": "code",
   "execution_count": 54,
   "metadata": {},
   "outputs": [
    {
     "data": {
      "text/plain": [
       "{'01_2013-2014_-_2017-_2018_Demographic_Snapshot_Citywide.csv': {'% Asian': {'Total Enrollment': 1.7249041593081844,\n",
       "   'Grade PK (Half Day & Full Day)': 1.336051345455371,\n",
       "   'Grade K': 1.6983890077930333,\n",
       "   'Grade 1': 1.6794496138536392,\n",
       "   'Grade 2': 1.7135405229445482,\n",
       "   'Grade 3': 1.6983890077930333,\n",
       "   'Grade 4': 1.6605102199142447,\n",
       "   'Grade 5': 1.6946011290051544,\n",
       "   'Grade 6': 1.671873856277882,\n",
       "   'Grade 7': 1.7211162805203057,\n",
       "   'Grade 8': 1.6756617350657608,\n",
       "   'Grade 9': 1.387241821645847,\n",
       "   'Grade 10': 1.4858348952389209,\n",
       "   'Grade 11': 1.6567223411263665,\n",
       "   'Grade 12': 1.6324799168839421,\n",
       "   '# Female': 1.7286920380960633,\n",
       "   '% Female': 1.1556384502697485,\n",
       "   '# Male': 1.7249041593081844,\n",
       "   '% Male': 1.1259847706160688,\n",
       "   '# Asian': 1.6695470164510418,\n",
       "   '# Black': 1.7286920380960633,\n",
       "   '% Black': 1.6779344623384873,\n",
       "   '# Hispanic': 1.6983890077930333,\n",
       "   '% Hispanic': 1.3771227740267997,\n",
       "   '# Multiple Race Categories Not Represented': 0.9555521729107437,\n",
       "   '% Multiple Race Categories Not Represented': 0.2329167794865803,\n",
       "   '# White': 1.636213683117708,\n",
       "   '% White': 1.5217115186155439,\n",
       "   '# Students with Disabilities': 1.4362677956718213,\n",
       "   '% Students with Disabilities': 1.1756059827372805,\n",
       "   '# English Language Learners': 1.1093377812418064,\n",
       "   '% English Language Learners': 1.5196011290051548,\n",
       "   '# Poverty': 1.6286920380960632,\n",
       "   '% Poverty': 1.3881076225116478},\n",
       "  'Total Enrollment': {'Grade PK (Half Day & Full Day)': 1.4638651982692241,\n",
       "   'Grade K': 1.6983890077930335,\n",
       "   'Grade 1': 1.6908132502172755,\n",
       "   'Grade 2': 1.702176886580912,\n",
       "   'Grade 3': 1.70975264415667,\n",
       "   'Grade 4': 1.6567223411263667,\n",
       "   'Grade 5': 1.6605102199142456,\n",
       "   'Grade 6': 1.6794496138536392,\n",
       "   'Grade 7': 1.7097526441566695,\n",
       "   'Grade 8': 1.6870253714293966,\n",
       "   'Grade 9': 1.425120609524635,\n",
       "   'Grade 10': 1.4802071896112148,\n",
       "   'Grade 11': 1.6567223411263663,\n",
       "   'Grade 12': 1.6324799168839423,\n",
       "   '# Female': 1.7855102199142454,\n",
       "   '% Female': 1.0255535099575352,\n",
       "   '# Male': 1.8120253714293968,\n",
       "   '% Male': 1.0454849673889925,\n",
       "   '# Asian': 1.6983890077930333,\n",
       "   '% Asian': 1.7249041593081846,\n",
       "   '# Black': 1.6908132502172757,\n",
       "   '% Black': 1.649904159308185,\n",
       "   '# Hispanic': 1.7097526441566702,\n",
       "   '% Hispanic': 1.3930859774900026,\n",
       "   '# Multiple Race Categories Not Represented': 0.9876370072683056,\n",
       "   '% Multiple Race Categories Not Represented': 0.19258351278299268,\n",
       "   '# White': 1.581722341126366,\n",
       "   '% White': 1.5070470164510417,\n",
       "   '# Students with Disabilities': 1.4017439861480112,\n",
       "   '% Students with Disabilities': 1.238432297836323,\n",
       "   '# English Language Learners': 1.1112317206357465,\n",
       "   '% English Language Learners': 1.5066682285722541,\n",
       "   '# Poverty': 1.5946011290051543,\n",
       "   '% Poverty': 1.2444929038969297}},\n",
       " '03_2013_-_2018_Demographic_Snapshot_Borough.csv': {'% Asian': {'Total Enrollment': 1.7249041593081844,\n",
       "   'Grade PK (Half Day & Full Day)': 1.336051345455371,\n",
       "   'Grade K': 1.6983890077930333,\n",
       "   'Grade 1': 1.6794496138536392,\n",
       "   'Grade 2': 1.7135405229445482,\n",
       "   'Grade 3': 1.6983890077930333,\n",
       "   'Grade 4': 1.6605102199142447,\n",
       "   'Grade 5': 1.6946011290051544,\n",
       "   'Grade 6': 1.671873856277882,\n",
       "   'Grade 7': 1.7211162805203057,\n",
       "   'Grade 8': 1.6756617350657608,\n",
       "   'Grade 9': 1.387241821645847,\n",
       "   'Grade 10': 1.4858348952389209,\n",
       "   'Grade 11': 1.6567223411263665,\n",
       "   'Grade 12': 1.6324799168839421,\n",
       "   '# Female': 1.7286920380960633,\n",
       "   '% Female': 1.1556384502697485,\n",
       "   '# Male': 1.7249041593081844,\n",
       "   '% Male': 1.1259847706160688,\n",
       "   '# Asian': 1.6695470164510418,\n",
       "   '# Black': 1.7286920380960633,\n",
       "   '% Black': 1.6779344623384873,\n",
       "   '# Hispanic': 1.6983890077930333,\n",
       "   '% Hispanic': 1.3771227740267997,\n",
       "   '# Multiple Race Categories Not Represented': 0.9555521729107437,\n",
       "   '% Multiple Race Categories Not Represented': 0.2329167794865803,\n",
       "   '# White': 1.636213683117708,\n",
       "   '% White': 1.5217115186155439,\n",
       "   '# Students with Disabilities': 1.4362677956718213,\n",
       "   '% Students with Disabilities': 1.1756059827372805,\n",
       "   '# English Language Learners': 1.1093377812418064,\n",
       "   '% English Language Learners': 1.5196011290051548,\n",
       "   '# Poverty': 1.6286920380960632,\n",
       "   '% Poverty': 1.3881076225116478},\n",
       "  'Total Enrollment': {'Grade PK (Half Day & Full Day)': 1.4638651982692241,\n",
       "   'Grade K': 1.6983890077930335,\n",
       "   'Grade 1': 1.6908132502172755,\n",
       "   'Grade 2': 1.702176886580912,\n",
       "   'Grade 3': 1.70975264415667,\n",
       "   'Grade 4': 1.6567223411263667,\n",
       "   'Grade 5': 1.6605102199142456,\n",
       "   'Grade 6': 1.6794496138536392,\n",
       "   'Grade 7': 1.7097526441566695,\n",
       "   'Grade 8': 1.6870253714293966,\n",
       "   'Grade 9': 1.425120609524635,\n",
       "   'Grade 10': 1.4802071896112148,\n",
       "   'Grade 11': 1.6567223411263663,\n",
       "   'Grade 12': 1.6324799168839423,\n",
       "   '# Female': 1.7855102199142454,\n",
       "   '% Female': 1.0255535099575352,\n",
       "   '# Male': 1.8120253714293968,\n",
       "   '% Male': 1.0454849673889925,\n",
       "   '# Asian': 1.6983890077930333,\n",
       "   '% Asian': 1.7249041593081846,\n",
       "   '# Black': 1.6908132502172757,\n",
       "   '% Black': 1.649904159308185,\n",
       "   '# Hispanic': 1.7097526441566702,\n",
       "   '% Hispanic': 1.3930859774900026,\n",
       "   '# Multiple Race Categories Not Represented': 0.9876370072683056,\n",
       "   '% Multiple Race Categories Not Represented': 0.19258351278299268,\n",
       "   '# White': 1.581722341126366,\n",
       "   '% White': 1.5070470164510417,\n",
       "   '# Students with Disabilities': 1.4017439861480112,\n",
       "   '% Students with Disabilities': 1.238432297836323,\n",
       "   '# English Language Learners': 1.1112317206357465,\n",
       "   '% English Language Learners': 1.5066682285722541,\n",
       "   '# Poverty': 1.5946011290051543,\n",
       "   '% Poverty': 1.2444929038969297}}}"
      ]
     },
     "execution_count": 54,
     "metadata": {},
     "output_type": "execute_result"
    }
   ],
   "source": [
    "datasets_list=['01_2013-2014_-_2017-_2018_Demographic_Snapshot_Citywide.csv','03_2013_-_2018_Demographic_Snapshot_Borough.csv']\n",
    "attributes_list=['Total Enrollment','% Asian']\n",
    "mydict1={}\n",
    "for filename in glob.glob('*.csv'):\n",
    "    if(filename in datasets_list):\n",
    "        data=pd.read_csv(filename)\n",
    "        for col in data.columns:\n",
    "            #print (col)\n",
    "             if col in attributes_list:\n",
    "                    numerics = ['int16', 'int32', 'int64', 'float16', 'float32', 'float64']\n",
    "                    numerical_vars = list(data.select_dtypes(include=numerics).columns)\n",
    "                    data = data[numerical_vars]\n",
    "                    lab=[col]\n",
    "                    #print(data[col])\n",
    "                    # separate train and test sets\n",
    "                    X_train, X_test, y_train, y_test = train_test_split(data.drop(labels=lab, axis=1),data[col],test_size=0.1,random_state=0)\n",
    "                    mi = mutual_info_regression(X_train.fillna(0), y_train)\n",
    "                    mi = pd.Series(mi)\n",
    "                    mi.index = X_train.columns\n",
    "                    mi.sort_values(ascending=False)\n",
    "                    mydict[col]=mi.to_dict()\n",
    "        mydict1[filename]=mydict\n",
    "mydict1"
   ]
  },
  {
   "cell_type": "code",
   "execution_count": 63,
   "metadata": {},
   "outputs": [
    {
     "name": "stdout",
     "output_type": "stream",
     "text": [
      "01_2013-2014_-_2017-_2018_Demographic_Snapshot_Citywide.csv ------------ % Asian \n",
      " {'Total Enrollment': 1.7249041593081844, 'Grade PK (Half Day & Full Day)': 1.336051345455371, 'Grade K': 1.6983890077930333, 'Grade 1': 1.6794496138536392, 'Grade 2': 1.7135405229445482, 'Grade 3': 1.6983890077930333, 'Grade 4': 1.6605102199142447, 'Grade 5': 1.6946011290051544, 'Grade 6': 1.671873856277882, 'Grade 7': 1.7211162805203057, 'Grade 8': 1.6756617350657608, 'Grade 9': 1.387241821645847, 'Grade 10': 1.4858348952389209, 'Grade 11': 1.6567223411263665, 'Grade 12': 1.6324799168839421, '# Female': 1.7286920380960633, '% Female': 1.1556384502697485, '# Male': 1.7249041593081844, '% Male': 1.1259847706160688, '# Asian': 1.6695470164510418, '# Black': 1.7286920380960633, '% Black': 1.6779344623384873, '# Hispanic': 1.6983890077930333, '% Hispanic': 1.3771227740267997, '# Multiple Race Categories Not Represented': 0.9555521729107437, '% Multiple Race Categories Not Represented': 0.2329167794865803, '# White': 1.636213683117708, '% White': 1.5217115186155439, '# Students with Disabilities': 1.4362677956718213, '% Students with Disabilities': 1.1756059827372805, '# English Language Learners': 1.1093377812418064, '% English Language Learners': 1.5196011290051548, '# Poverty': 1.6286920380960632, '% Poverty': 1.3881076225116478}\n",
      "01_2013-2014_-_2017-_2018_Demographic_Snapshot_Citywide.csv ------------ Total Enrollment \n",
      " {'Grade PK (Half Day & Full Day)': 1.4638651982692241, 'Grade K': 1.6983890077930335, 'Grade 1': 1.6908132502172755, 'Grade 2': 1.702176886580912, 'Grade 3': 1.70975264415667, 'Grade 4': 1.6567223411263667, 'Grade 5': 1.6605102199142456, 'Grade 6': 1.6794496138536392, 'Grade 7': 1.7097526441566695, 'Grade 8': 1.6870253714293966, 'Grade 9': 1.425120609524635, 'Grade 10': 1.4802071896112148, 'Grade 11': 1.6567223411263663, 'Grade 12': 1.6324799168839423, '# Female': 1.7855102199142454, '% Female': 1.0255535099575352, '# Male': 1.8120253714293968, '% Male': 1.0454849673889925, '# Asian': 1.6983890077930333, '% Asian': 1.7249041593081846, '# Black': 1.6908132502172757, '% Black': 1.649904159308185, '# Hispanic': 1.7097526441566702, '% Hispanic': 1.3930859774900026, '# Multiple Race Categories Not Represented': 0.9876370072683056, '% Multiple Race Categories Not Represented': 0.19258351278299268, '# White': 1.581722341126366, '% White': 1.5070470164510417, '# Students with Disabilities': 1.4017439861480112, '% Students with Disabilities': 1.238432297836323, '# English Language Learners': 1.1112317206357465, '% English Language Learners': 1.5066682285722541, '# Poverty': 1.5946011290051543, '% Poverty': 1.2444929038969297}\n",
      "03_2013_-_2018_Demographic_Snapshot_Borough.csv ------------ % Asian \n",
      " {'Total Enrollment': 1.7249041593081844, 'Grade PK (Half Day & Full Day)': 1.336051345455371, 'Grade K': 1.6983890077930333, 'Grade 1': 1.6794496138536392, 'Grade 2': 1.7135405229445482, 'Grade 3': 1.6983890077930333, 'Grade 4': 1.6605102199142447, 'Grade 5': 1.6946011290051544, 'Grade 6': 1.671873856277882, 'Grade 7': 1.7211162805203057, 'Grade 8': 1.6756617350657608, 'Grade 9': 1.387241821645847, 'Grade 10': 1.4858348952389209, 'Grade 11': 1.6567223411263665, 'Grade 12': 1.6324799168839421, '# Female': 1.7286920380960633, '% Female': 1.1556384502697485, '# Male': 1.7249041593081844, '% Male': 1.1259847706160688, '# Asian': 1.6695470164510418, '# Black': 1.7286920380960633, '% Black': 1.6779344623384873, '# Hispanic': 1.6983890077930333, '% Hispanic': 1.3771227740267997, '# Multiple Race Categories Not Represented': 0.9555521729107437, '% Multiple Race Categories Not Represented': 0.2329167794865803, '# White': 1.636213683117708, '% White': 1.5217115186155439, '# Students with Disabilities': 1.4362677956718213, '% Students with Disabilities': 1.1756059827372805, '# English Language Learners': 1.1093377812418064, '% English Language Learners': 1.5196011290051548, '# Poverty': 1.6286920380960632, '% Poverty': 1.3881076225116478}\n",
      "03_2013_-_2018_Demographic_Snapshot_Borough.csv ------------ Total Enrollment \n",
      " {'Grade PK (Half Day & Full Day)': 1.4638651982692241, 'Grade K': 1.6983890077930335, 'Grade 1': 1.6908132502172755, 'Grade 2': 1.702176886580912, 'Grade 3': 1.70975264415667, 'Grade 4': 1.6567223411263667, 'Grade 5': 1.6605102199142456, 'Grade 6': 1.6794496138536392, 'Grade 7': 1.7097526441566695, 'Grade 8': 1.6870253714293966, 'Grade 9': 1.425120609524635, 'Grade 10': 1.4802071896112148, 'Grade 11': 1.6567223411263663, 'Grade 12': 1.6324799168839423, '# Female': 1.7855102199142454, '% Female': 1.0255535099575352, '# Male': 1.8120253714293968, '% Male': 1.0454849673889925, '# Asian': 1.6983890077930333, '% Asian': 1.7249041593081846, '# Black': 1.6908132502172757, '% Black': 1.649904159308185, '# Hispanic': 1.7097526441566702, '% Hispanic': 1.3930859774900026, '# Multiple Race Categories Not Represented': 0.9876370072683056, '% Multiple Race Categories Not Represented': 0.19258351278299268, '# White': 1.581722341126366, '% White': 1.5070470164510417, '# Students with Disabilities': 1.4017439861480112, '% Students with Disabilities': 1.238432297836323, '# English Language Learners': 1.1112317206357465, '% English Language Learners': 1.5066682285722541, '# Poverty': 1.5946011290051543, '% Poverty': 1.2444929038969297}\n"
     ]
    }
   ],
   "source": [
    "for datasets in mydict1:\n",
    "    for attributes in mydict1[datasets]:\n",
    "        print (datasets,\"------------\",attributes,\"\\n\",mydict1[datasets][attributes])\n"
   ]
  },
  {
   "cell_type": "code",
   "execution_count": 64,
   "metadata": {
    "scrolled": true
   },
   "outputs": [
    {
     "data": {
      "text/plain": [
       "# Female                                      1.728692\n",
       "# Black                                       1.728692\n",
       "Total Enrollment                              1.724904\n",
       "# Male                                        1.724904\n",
       "Grade 7                                       1.721116\n",
       "Grade 2                                       1.713541\n",
       "# Hispanic                                    1.698389\n",
       "Grade K                                       1.698389\n",
       "Grade 3                                       1.698389\n",
       "Grade 5                                       1.694601\n",
       "Grade 1                                       1.679450\n",
       "% Black                                       1.677934\n",
       "Grade 8                                       1.675662\n",
       "Grade 6                                       1.671874\n",
       "# Asian                                       1.669547\n",
       "Grade 4                                       1.660510\n",
       "Grade 11                                      1.656722\n",
       "# White                                       1.636214\n",
       "Grade 12                                      1.632480\n",
       "# Poverty                                     1.628692\n",
       "% White                                       1.521712\n",
       "% English Language Learners                   1.519601\n",
       "Grade 10                                      1.485835\n",
       "# Students with Disabilities                  1.436268\n",
       "% Poverty                                     1.388108\n",
       "Grade 9                                       1.387242\n",
       "% Hispanic                                    1.377123\n",
       "Grade PK (Half Day & Full Day)                1.336051\n",
       "% Students with Disabilities                  1.175606\n",
       "% Female                                      1.155638\n",
       "% Male                                        1.125985\n",
       "# English Language Learners                   1.109338\n",
       "# Multiple Race Categories Not Represented    0.955552\n",
       "% Multiple Race Categories Not Represented    0.232917\n",
       "dtype: float64"
      ]
     },
     "execution_count": 64,
     "metadata": {},
     "output_type": "execute_result"
    }
   ],
   "source": [
    "# let's add the variable names and order the features\n",
    "# according to the MI for clearer visualisation\n",
    "mi = pd.Series(mi)\n",
    "mi.index = X_train.columns\n",
    "mi.sort_values(ascending=False)"
   ]
  },
  {
   "cell_type": "code",
   "execution_count": 65,
   "metadata": {},
   "outputs": [
    {
     "data": {
      "text/plain": [
       "<matplotlib.axes._subplots.AxesSubplot at 0x11b04e128>"
      ]
     },
     "execution_count": 65,
     "metadata": {},
     "output_type": "execute_result"
    },
    {
     "data": {
      "image/png": "[encoded data removed]",
      "text/plain": [
       "<Figure size 1440x576 with 1 Axes>"
      ]
     },
     "metadata": {
      "needs_background": "light"
     },
     "output_type": "display_data"
    }
   ],
   "source": [
    "# and now let's plot the ordered MI values per feature\n",
    "mi.sort_values(ascending=False).plot.bar(figsize=(20, 8))"
   ]
  },
  {
   "cell_type": "code",
   "execution_count": 66,
   "metadata": {},
   "outputs": [
    {
     "ename": "ValueError",
     "evalue": "Unknown label type: 'continuous'",
     "output_type": "error",
     "traceback": [
      "\u001b[0;31m---------------------------------------------------------------------------\u001b[0m",
      "\u001b[0;31mValueError\u001b[0m                                Traceback (most recent call last)",
      "\u001b[0;32m<ipython-input-66-9cdfc5b3985b>\u001b[0m in \u001b[0;36m<module>\u001b[0;34m\u001b[0m\n\u001b[1;32m      1\u001b[0m \u001b[0;31m# here I will select the top 10 features\u001b[0m\u001b[0;34m\u001b[0m\u001b[0;34m\u001b[0m\u001b[0;34m\u001b[0m\u001b[0m\n\u001b[1;32m      2\u001b[0m \u001b[0;31m# which are shown below\u001b[0m\u001b[0;34m\u001b[0m\u001b[0;34m\u001b[0m\u001b[0;34m\u001b[0m\u001b[0m\n\u001b[0;32m----> 3\u001b[0;31m \u001b[0msel_\u001b[0m \u001b[0;34m=\u001b[0m \u001b[0mSelectKBest\u001b[0m\u001b[0;34m(\u001b[0m\u001b[0mmutual_info_classif\u001b[0m\u001b[0;34m,\u001b[0m \u001b[0mk\u001b[0m\u001b[0;34m=\u001b[0m\u001b[0;36m10\u001b[0m\u001b[0;34m)\u001b[0m\u001b[0;34m.\u001b[0m\u001b[0mfit\u001b[0m\u001b[0;34m(\u001b[0m\u001b[0mX_train\u001b[0m\u001b[0;34m.\u001b[0m\u001b[0mfillna\u001b[0m\u001b[0;34m(\u001b[0m\u001b[0;36m0\u001b[0m\u001b[0;34m)\u001b[0m\u001b[0;34m,\u001b[0m \u001b[0my_train\u001b[0m\u001b[0;34m)\u001b[0m\u001b[0;34m\u001b[0m\u001b[0;34m\u001b[0m\u001b[0m\n\u001b[0m\u001b[1;32m      4\u001b[0m \u001b[0mX_train\u001b[0m\u001b[0;34m.\u001b[0m\u001b[0mcolumns\u001b[0m\u001b[0;34m[\u001b[0m\u001b[0msel_\u001b[0m\u001b[0;34m.\u001b[0m\u001b[0mget_support\u001b[0m\u001b[0;34m(\u001b[0m\u001b[0;34m)\u001b[0m\u001b[0;34m]\u001b[0m\u001b[0;34m\u001b[0m\u001b[0;34m\u001b[0m\u001b[0m\n",
      "\u001b[0;32m~/.local/lib/python3.7/site-packages/sklearn/feature_selection/univariate_selection.py\u001b[0m in \u001b[0;36mfit\u001b[0;34m(self, X, y)\u001b[0m\n\u001b[1;32m    347\u001b[0m \u001b[0;34m\u001b[0m\u001b[0m\n\u001b[1;32m    348\u001b[0m         \u001b[0mself\u001b[0m\u001b[0;34m.\u001b[0m\u001b[0m_check_params\u001b[0m\u001b[0;34m(\u001b[0m\u001b[0mX\u001b[0m\u001b[0;34m,\u001b[0m \u001b[0my\u001b[0m\u001b[0;34m)\u001b[0m\u001b[0;34m\u001b[0m\u001b[0;34m\u001b[0m\u001b[0m\n\u001b[0;32m--> 349\u001b[0;31m         \u001b[0mscore_func_ret\u001b[0m \u001b[0;34m=\u001b[0m \u001b[0mself\u001b[0m\u001b[0;34m.\u001b[0m\u001b[0mscore_func\u001b[0m\u001b[0;34m(\u001b[0m\u001b[0mX\u001b[0m\u001b[0;34m,\u001b[0m \u001b[0my\u001b[0m\u001b[0;34m)\u001b[0m\u001b[0;34m\u001b[0m\u001b[0;34m\u001b[0m\u001b[0m\n\u001b[0m\u001b[1;32m    350\u001b[0m         \u001b[0;32mif\u001b[0m \u001b[0misinstance\u001b[0m\u001b[0;34m(\u001b[0m\u001b[0mscore_func_ret\u001b[0m\u001b[0;34m,\u001b[0m \u001b[0;34m(\u001b[0m\u001b[0mlist\u001b[0m\u001b[0;34m,\u001b[0m \u001b[0mtuple\u001b[0m\u001b[0;34m)\u001b[0m\u001b[0;34m)\u001b[0m\u001b[0;34m:\u001b[0m\u001b[0;34m\u001b[0m\u001b[0;34m\u001b[0m\u001b[0m\n\u001b[1;32m    351\u001b[0m             \u001b[0mself\u001b[0m\u001b[0;34m.\u001b[0m\u001b[0mscores_\u001b[0m\u001b[0;34m,\u001b[0m \u001b[0mself\u001b[0m\u001b[0;34m.\u001b[0m\u001b[0mpvalues_\u001b[0m \u001b[0;34m=\u001b[0m \u001b[0mscore_func_ret\u001b[0m\u001b[0;34m\u001b[0m\u001b[0;34m\u001b[0m\u001b[0m\n",
      "\u001b[0;32m~/.local/lib/python3.7/site-packages/sklearn/feature_selection/mutual_info_.py\u001b[0m in \u001b[0;36mmutual_info_classif\u001b[0;34m(X, y, discrete_features, n_neighbors, copy, random_state)\u001b[0m\n\u001b[1;32m    447\u001b[0m            \u001b[0mof\u001b[0m \u001b[0ma\u001b[0m \u001b[0mRandom\u001b[0m \u001b[0mVector\u001b[0m\u001b[0;34m:\u001b[0m\u001b[0;34m,\u001b[0m \u001b[0mProbl\u001b[0m\u001b[0;34m.\u001b[0m \u001b[0mPeredachi\u001b[0m \u001b[0mInf\u001b[0m\u001b[0;34m.\u001b[0m\u001b[0;34m,\u001b[0m \u001b[0;36m23\u001b[0m\u001b[0;34m:\u001b[0m\u001b[0;36m2\u001b[0m \u001b[0;34m(\u001b[0m\u001b[0;36m1987\u001b[0m\u001b[0;34m)\u001b[0m\u001b[0;34m,\u001b[0m \u001b[0;36m9\u001b[0m\u001b[0;34m-\u001b[0m\u001b[0;36m16\u001b[0m\u001b[0;34m\u001b[0m\u001b[0;34m\u001b[0m\u001b[0m\n\u001b[1;32m    448\u001b[0m     \"\"\"\n\u001b[0;32m--> 449\u001b[0;31m     \u001b[0mcheck_classification_targets\u001b[0m\u001b[0;34m(\u001b[0m\u001b[0my\u001b[0m\u001b[0;34m)\u001b[0m\u001b[0;34m\u001b[0m\u001b[0;34m\u001b[0m\u001b[0m\n\u001b[0m\u001b[1;32m    450\u001b[0m     return _estimate_mi(X, y, discrete_features, True, n_neighbors,\n\u001b[1;32m    451\u001b[0m                         copy, random_state)\n",
      "\u001b[0;32m~/.local/lib/python3.7/site-packages/sklearn/utils/multiclass.py\u001b[0m in \u001b[0;36mcheck_classification_targets\u001b[0;34m(y)\u001b[0m\n\u001b[1;32m    167\u001b[0m     if y_type not in ['binary', 'multiclass', 'multiclass-multioutput',\n\u001b[1;32m    168\u001b[0m                       'multilabel-indicator', 'multilabel-sequences']:\n\u001b[0;32m--> 169\u001b[0;31m         \u001b[0;32mraise\u001b[0m \u001b[0mValueError\u001b[0m\u001b[0;34m(\u001b[0m\u001b[0;34m\"Unknown label type: %r\"\u001b[0m \u001b[0;34m%\u001b[0m \u001b[0my_type\u001b[0m\u001b[0;34m)\u001b[0m\u001b[0;34m\u001b[0m\u001b[0;34m\u001b[0m\u001b[0m\n\u001b[0m\u001b[1;32m    170\u001b[0m \u001b[0;34m\u001b[0m\u001b[0m\n\u001b[1;32m    171\u001b[0m \u001b[0;34m\u001b[0m\u001b[0m\n",
      "\u001b[0;31mValueError\u001b[0m: Unknown label type: 'continuous'"
     ]
    }
   ],
   "source": [
    "# here I will select the top 10 features\n",
    "# which are shown below\n",
    "sel_ = SelectKBest(mutual_info_classif, k=10).fit(X_train.fillna(0), y_train)\n",
    "X_train.columns[sel_.get_support()]"
   ]
  },
  {
   "cell_type": "markdown",
   "metadata": {},
   "source": [
    "### Regression"
   ]
  },
  {
   "cell_type": "code",
   "execution_count": 67,
   "metadata": {},
   "outputs": [
    {
     "data": {
      "text/plain": [
       "(25, 35)"
      ]
     },
     "execution_count": 67,
     "metadata": {},
     "output_type": "execute_result"
    }
   ],
   "source": [
    "# load dataset\n",
    "data.shape"
   ]
  },
  {
   "cell_type": "code",
   "execution_count": 68,
   "metadata": {},
   "outputs": [
    {
     "data": {
      "text/plain": [
       "(25, 35)"
      ]
     },
     "execution_count": 68,
     "metadata": {},
     "output_type": "execute_result"
    }
   ],
   "source": [
    "# In practice, feature selection should be done after data pre-processing,\n",
    "# so ideally, all the categorical variables are encoded into numbers,\n",
    "# and then you can assess how deterministic they are of the target\n",
    "\n",
    "# here for simplicity I will use only numerical variables\n",
    "# select numerical columns:\n",
    "\n",
    "numerics = ['int16', 'int32', 'int64', 'float16', 'float32', 'float64']\n",
    "numerical_vars = list(data.select_dtypes(include=numerics).columns)\n",
    "data = data[numerical_vars]\n",
    "data.shape"
   ]
  },
  {
   "cell_type": "code",
   "execution_count": 69,
   "metadata": {},
   "outputs": [
    {
     "ename": "KeyError",
     "evalue": "\"['Dropped Out - n'] not found in axis\"",
     "output_type": "error",
     "traceback": [
      "\u001b[0;31m---------------------------------------------------------------------------\u001b[0m",
      "\u001b[0;31mKeyError\u001b[0m                                  Traceback (most recent call last)",
      "\u001b[0;32m<ipython-input-69-e344ce3ae9f7>\u001b[0m in \u001b[0;36m<module>\u001b[0;34m\u001b[0m\n\u001b[1;32m      1\u001b[0m \u001b[0;31m# separate train and test sets\u001b[0m\u001b[0;34m\u001b[0m\u001b[0;34m\u001b[0m\u001b[0;34m\u001b[0m\u001b[0m\n\u001b[1;32m      2\u001b[0m X_train, X_test, y_train, y_test = train_test_split(\n\u001b[0;32m----> 3\u001b[0;31m     \u001b[0mdata\u001b[0m\u001b[0;34m.\u001b[0m\u001b[0mdrop\u001b[0m\u001b[0;34m(\u001b[0m\u001b[0mlabels\u001b[0m\u001b[0;34m=\u001b[0m\u001b[0;34m[\u001b[0m\u001b[0;34m'Dropped Out - n'\u001b[0m\u001b[0;34m]\u001b[0m\u001b[0;34m,\u001b[0m \u001b[0maxis\u001b[0m\u001b[0;34m=\u001b[0m\u001b[0;36m1\u001b[0m\u001b[0;34m)\u001b[0m\u001b[0;34m,\u001b[0m\u001b[0;34m\u001b[0m\u001b[0;34m\u001b[0m\u001b[0m\n\u001b[0m\u001b[1;32m      4\u001b[0m     \u001b[0mdata\u001b[0m\u001b[0;34m[\u001b[0m\u001b[0;34m'Dropped Out - n'\u001b[0m\u001b[0;34m]\u001b[0m\u001b[0;34m,\u001b[0m\u001b[0;34m\u001b[0m\u001b[0;34m\u001b[0m\u001b[0m\n\u001b[1;32m      5\u001b[0m     \u001b[0mtest_size\u001b[0m\u001b[0;34m=\u001b[0m\u001b[0;36m0.3\u001b[0m\u001b[0;34m,\u001b[0m\u001b[0;34m\u001b[0m\u001b[0;34m\u001b[0m\u001b[0m\n",
      "\u001b[0;32m/anaconda3/lib/python3.7/site-packages/pandas/core/frame.py\u001b[0m in \u001b[0;36mdrop\u001b[0;34m(self, labels, axis, index, columns, level, inplace, errors)\u001b[0m\n\u001b[1;32m   3938\u001b[0m                                            \u001b[0mindex\u001b[0m\u001b[0;34m=\u001b[0m\u001b[0mindex\u001b[0m\u001b[0;34m,\u001b[0m \u001b[0mcolumns\u001b[0m\u001b[0;34m=\u001b[0m\u001b[0mcolumns\u001b[0m\u001b[0;34m,\u001b[0m\u001b[0;34m\u001b[0m\u001b[0;34m\u001b[0m\u001b[0m\n\u001b[1;32m   3939\u001b[0m                                            \u001b[0mlevel\u001b[0m\u001b[0;34m=\u001b[0m\u001b[0mlevel\u001b[0m\u001b[0;34m,\u001b[0m \u001b[0minplace\u001b[0m\u001b[0;34m=\u001b[0m\u001b[0minplace\u001b[0m\u001b[0;34m,\u001b[0m\u001b[0;34m\u001b[0m\u001b[0;34m\u001b[0m\u001b[0m\n\u001b[0;32m-> 3940\u001b[0;31m                                            errors=errors)\n\u001b[0m\u001b[1;32m   3941\u001b[0m \u001b[0;34m\u001b[0m\u001b[0m\n\u001b[1;32m   3942\u001b[0m     @rewrite_axis_style_signature('mapper', [('copy', True),\n",
      "\u001b[0;32m/anaconda3/lib/python3.7/site-packages/pandas/core/generic.py\u001b[0m in \u001b[0;36mdrop\u001b[0;34m(self, labels, axis, index, columns, level, inplace, errors)\u001b[0m\n\u001b[1;32m   3778\u001b[0m         \u001b[0;32mfor\u001b[0m \u001b[0maxis\u001b[0m\u001b[0;34m,\u001b[0m \u001b[0mlabels\u001b[0m \u001b[0;32min\u001b[0m \u001b[0maxes\u001b[0m\u001b[0;34m.\u001b[0m\u001b[0mitems\u001b[0m\u001b[0;34m(\u001b[0m\u001b[0;34m)\u001b[0m\u001b[0;34m:\u001b[0m\u001b[0;34m\u001b[0m\u001b[0;34m\u001b[0m\u001b[0m\n\u001b[1;32m   3779\u001b[0m             \u001b[0;32mif\u001b[0m \u001b[0mlabels\u001b[0m \u001b[0;32mis\u001b[0m \u001b[0;32mnot\u001b[0m \u001b[0;32mNone\u001b[0m\u001b[0;34m:\u001b[0m\u001b[0;34m\u001b[0m\u001b[0;34m\u001b[0m\u001b[0m\n\u001b[0;32m-> 3780\u001b[0;31m                 \u001b[0mobj\u001b[0m \u001b[0;34m=\u001b[0m \u001b[0mobj\u001b[0m\u001b[0;34m.\u001b[0m\u001b[0m_drop_axis\u001b[0m\u001b[0;34m(\u001b[0m\u001b[0mlabels\u001b[0m\u001b[0;34m,\u001b[0m \u001b[0maxis\u001b[0m\u001b[0;34m,\u001b[0m \u001b[0mlevel\u001b[0m\u001b[0;34m=\u001b[0m\u001b[0mlevel\u001b[0m\u001b[0;34m,\u001b[0m \u001b[0merrors\u001b[0m\u001b[0;34m=\u001b[0m\u001b[0merrors\u001b[0m\u001b[0;34m)\u001b[0m\u001b[0;34m\u001b[0m\u001b[0;34m\u001b[0m\u001b[0m\n\u001b[0m\u001b[1;32m   3781\u001b[0m \u001b[0;34m\u001b[0m\u001b[0m\n\u001b[1;32m   3782\u001b[0m         \u001b[0;32mif\u001b[0m \u001b[0minplace\u001b[0m\u001b[0;34m:\u001b[0m\u001b[0;34m\u001b[0m\u001b[0;34m\u001b[0m\u001b[0m\n",
      "\u001b[0;32m/anaconda3/lib/python3.7/site-packages/pandas/core/generic.py\u001b[0m in \u001b[0;36m_drop_axis\u001b[0;34m(self, labels, axis, level, errors)\u001b[0m\n\u001b[1;32m   3810\u001b[0m                 \u001b[0mnew_axis\u001b[0m \u001b[0;34m=\u001b[0m \u001b[0maxis\u001b[0m\u001b[0;34m.\u001b[0m\u001b[0mdrop\u001b[0m\u001b[0;34m(\u001b[0m\u001b[0mlabels\u001b[0m\u001b[0;34m,\u001b[0m \u001b[0mlevel\u001b[0m\u001b[0;34m=\u001b[0m\u001b[0mlevel\u001b[0m\u001b[0;34m,\u001b[0m \u001b[0merrors\u001b[0m\u001b[0;34m=\u001b[0m\u001b[0merrors\u001b[0m\u001b[0;34m)\u001b[0m\u001b[0;34m\u001b[0m\u001b[0;34m\u001b[0m\u001b[0m\n\u001b[1;32m   3811\u001b[0m             \u001b[0;32melse\u001b[0m\u001b[0;34m:\u001b[0m\u001b[0;34m\u001b[0m\u001b[0;34m\u001b[0m\u001b[0m\n\u001b[0;32m-> 3812\u001b[0;31m                 \u001b[0mnew_axis\u001b[0m \u001b[0;34m=\u001b[0m \u001b[0maxis\u001b[0m\u001b[0;34m.\u001b[0m\u001b[0mdrop\u001b[0m\u001b[0;34m(\u001b[0m\u001b[0mlabels\u001b[0m\u001b[0;34m,\u001b[0m \u001b[0merrors\u001b[0m\u001b[0;34m=\u001b[0m\u001b[0merrors\u001b[0m\u001b[0;34m)\u001b[0m\u001b[0;34m\u001b[0m\u001b[0;34m\u001b[0m\u001b[0m\n\u001b[0m\u001b[1;32m   3813\u001b[0m             \u001b[0mresult\u001b[0m \u001b[0;34m=\u001b[0m \u001b[0mself\u001b[0m\u001b[0;34m.\u001b[0m\u001b[0mreindex\u001b[0m\u001b[0;34m(\u001b[0m\u001b[0;34m**\u001b[0m\u001b[0;34m{\u001b[0m\u001b[0maxis_name\u001b[0m\u001b[0;34m:\u001b[0m \u001b[0mnew_axis\u001b[0m\u001b[0;34m}\u001b[0m\u001b[0;34m)\u001b[0m\u001b[0;34m\u001b[0m\u001b[0;34m\u001b[0m\u001b[0m\n\u001b[1;32m   3814\u001b[0m \u001b[0;34m\u001b[0m\u001b[0m\n",
      "\u001b[0;32m/anaconda3/lib/python3.7/site-packages/pandas/core/indexes/base.py\u001b[0m in \u001b[0;36mdrop\u001b[0;34m(self, labels, errors)\u001b[0m\n\u001b[1;32m   4963\u001b[0m             \u001b[0;32mif\u001b[0m \u001b[0merrors\u001b[0m \u001b[0;34m!=\u001b[0m \u001b[0;34m'ignore'\u001b[0m\u001b[0;34m:\u001b[0m\u001b[0;34m\u001b[0m\u001b[0;34m\u001b[0m\u001b[0m\n\u001b[1;32m   4964\u001b[0m                 raise KeyError(\n\u001b[0;32m-> 4965\u001b[0;31m                     '{} not found in axis'.format(labels[mask]))\n\u001b[0m\u001b[1;32m   4966\u001b[0m             \u001b[0mindexer\u001b[0m \u001b[0;34m=\u001b[0m \u001b[0mindexer\u001b[0m\u001b[0;34m[\u001b[0m\u001b[0;34m~\u001b[0m\u001b[0mmask\u001b[0m\u001b[0;34m]\u001b[0m\u001b[0;34m\u001b[0m\u001b[0;34m\u001b[0m\u001b[0m\n\u001b[1;32m   4967\u001b[0m         \u001b[0;32mreturn\u001b[0m \u001b[0mself\u001b[0m\u001b[0;34m.\u001b[0m\u001b[0mdelete\u001b[0m\u001b[0;34m(\u001b[0m\u001b[0mindexer\u001b[0m\u001b[0;34m)\u001b[0m\u001b[0;34m\u001b[0m\u001b[0;34m\u001b[0m\u001b[0m\n",
      "\u001b[0;31mKeyError\u001b[0m: \"['Dropped Out - n'] not found in axis\""
     ]
    }
   ],
   "source": [
    "# separate train and test sets\n",
    "X_train, X_test, y_train, y_test = train_test_split(\n",
    "    data.drop(labels=['Dropped Out - n'], axis=1),\n",
    "    data['Dropped Out - n'],\n",
    "    test_size=0.3,\n",
    "    random_state=0)\n",
    "\n",
    "X_train.shape, X_test.shape"
   ]
  },
  {
   "cell_type": "code",
   "execution_count": 70,
   "metadata": {
    "scrolled": true
   },
   "outputs": [
    {
     "data": {
      "text/plain": [
       "# Black                                       1.728692\n",
       "# Female                                      1.728692\n",
       "Total Enrollment                              1.724904\n",
       "# Male                                        1.724904\n",
       "Grade 7                                       1.721116\n",
       "Grade 2                                       1.713541\n",
       "# Hispanic                                    1.698389\n",
       "Grade K                                       1.698389\n",
       "Grade 3                                       1.698389\n",
       "Grade 5                                       1.694601\n",
       "Grade 1                                       1.679450\n",
       "% Black                                       1.677934\n",
       "Grade 8                                       1.675662\n",
       "Grade 6                                       1.671874\n",
       "# Asian                                       1.669547\n",
       "Grade 4                                       1.660510\n",
       "Grade 11                                      1.656722\n",
       "# White                                       1.636214\n",
       "Grade 12                                      1.632480\n",
       "# Poverty                                     1.628692\n",
       "% English Language Learners                   1.519601\n",
       "% White                                       1.506560\n",
       "Grade 10                                      1.485835\n",
       "# Students with Disabilities                  1.436268\n",
       "Grade 9                                       1.387242\n",
       "% Poverty                                     1.380532\n",
       "% Hispanic                                    1.377123\n",
       "Grade PK (Half Day & Full Day)                1.336051\n",
       "% Students with Disabilities                  1.175606\n",
       "% Male                                        1.125353\n",
       "% Female                                      1.109571\n",
       "# English Language Learners                   1.109338\n",
       "# Multiple Race Categories Not Represented    0.955552\n",
       "% Multiple Race Categories Not Represented    0.277197\n",
       "dtype: float64"
      ]
     },
     "execution_count": 70,
     "metadata": {},
     "output_type": "execute_result"
    }
   ],
   "source": [
    "# determine the mutual information\n",
    "mi = mutual_info_regression(X_train.fillna(0), y_train)\n",
    "mi = pd.Series(mi)\n",
    "mi.index = X_train.columns\n",
    "mi.sort_values(ascending=False)"
   ]
  },
  {
   "cell_type": "code",
   "execution_count": 71,
   "metadata": {},
   "outputs": [
    {
     "data": {
      "text/plain": [
       "<matplotlib.axes._subplots.AxesSubplot at 0x11bf1d2b0>"
      ]
     },
     "execution_count": 71,
     "metadata": {},
     "output_type": "execute_result"
    },
    {
     "data": {
      "image/png": "[encoded data removed]",
      "text/plain": [
       "<Figure size 1440x576 with 1 Axes>"
      ]
     },
     "metadata": {
      "needs_background": "light"
     },
     "output_type": "display_data"
    }
   ],
   "source": [
    "mi.sort_values(ascending=False).plot.bar(figsize=(20,8))"
   ]
  },
  {
   "cell_type": "code",
   "execution_count": 72,
   "metadata": {},
   "outputs": [
    {
     "data": {
      "text/plain": [
       "Index(['Total Enrollment', '# Female', '# Male', '# Black'], dtype='object')"
      ]
     },
     "execution_count": 72,
     "metadata": {},
     "output_type": "execute_result"
    }
   ],
   "source": [
    "# here I will select the top 10 percentile\n",
    "sel_ = SelectPercentile(mutual_info_regression, percentile=10).fit(X_train.fillna(0), y_train)\n",
    "X_train.columns[sel_.get_support()]"
   ]
  },
  {
   "cell_type": "markdown",
   "metadata": {},
   "source": [
    "I have not personally used mutual information in any of my projects. However, there is some value in the method. See for example:\n",
    "\n",
    "Comparison between univariate and mutual information selection in [sklean website](http://scikit-learn.org/stable/auto_examples/feature_selection/plot_f_test_vs_mi.html#sphx-glr-auto-examples-feature-selection-plot-f-test-vs-mi-py)\n",
    "\n",
    "In addition, mutual information has been widely covered, if anything else from a theoretical perspective, in several articles that I share in the additional reading resources section. Therefore I wanted to have it covered in the course, and I leave it up to you to explore it and see if you find any use in it.\n",
    "\n",
    "That is all for this lecture, I hope you enjoyed it and see you in the next one!"
   ]
  },
  {
   "cell_type": "code",
   "execution_count": null,
   "metadata": {},
   "outputs": [],
   "source": []
  }
 ],
 "metadata": {
  "kernelspec": {
   "display_name": "Python 3",
   "language": "python",
   "name": "python3"
  },
  "language_info": {
   "codemirror_mode": {
    "name": "ipython",
    "version": 3
   },
   "file_extension": ".py",
   "mimetype": "text/x-python",
   "name": "python",
   "nbconvert_exporter": "python",
   "pygments_lexer": "ipython3",
   "version": "3.7.3"
  },
  "toc": {
   "nav_menu": {},
   "number_sections": true,
   "sideBar": true,
   "skip_h1_title": false,
   "toc_cell": false,
   "toc_position": {},
   "toc_section_display": "block",
   "toc_window_display": true
  }
 },
 "nbformat": 4,
 "nbformat_minor": 2
}
