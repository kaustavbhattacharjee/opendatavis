{
 "cells": [
  {
   "cell_type": "code",
   "execution_count": 1,
   "metadata": {},
   "outputs": [],
   "source": [
    "from pandas import DataFrame, read_csv\n",
    "import pandas as pd "
   ]
  },
  {
   "cell_type": "code",
   "execution_count": 3,
   "metadata": {},
   "outputs": [],
   "source": [
    "data=pd.read_csv('01_2013-2014_-_2017-_2018_Demographic_Snapshot_Citywide.csv')"
   ]
  },
  {
   "cell_type": "code",
   "execution_count": 4,
   "metadata": {},
   "outputs": [],
   "source": [
    "def item_process(data2):\n",
    "    dict1={}\n",
    "    arr_columns=[]\n",
    "    arr=[]\n",
    "    for columns in data2.columns:\n",
    "        print(columns)\n",
    "        #arr_columns.append(columns)\n",
    "        #init_row=''\n",
    "        #print(columns)\n",
    "        for rows in data2[columns]: \n",
    "            if rows not in dict1:\n",
    "                dict1[rows]=1\n",
    "            else:\n",
    "                dict1[rows]=dict1[rows]+1\n",
    "            #print(rows)\n",
    "            arr.append(rows)\n",
    "    for key in dict1:\n",
    "        if dict1[key]>1:\n",
    "            print(key,dict1[key])"
   ]
  },
  {
   "cell_type": "code",
   "execution_count": 5,
   "metadata": {},
   "outputs": [
    {
     "name": "stdout",
     "output_type": "stream",
     "text": [
      "Year\n",
      "Total Enrollment\n",
      "Grade PK (Half Day & Full Day)\n",
      "Grade K\n",
      "Grade 1\n",
      "Grade 2\n",
      "Grade 3\n",
      "Grade 4\n",
      "Grade 5\n",
      "Grade 6\n",
      "Grade 7\n",
      "Grade 8\n",
      "Grade 9\n",
      "Grade 10\n",
      "Grade 11\n",
      "Grade 12\n",
      "# Female\n",
      "% Female\n",
      "# Male\n",
      "% Male\n",
      "# Asian\n",
      "% Asian\n",
      "# Black\n",
      "% Black\n",
      "# Hispanic\n",
      "% Hispanic\n",
      "# Multiple Race Categories Not Represented\n",
      "% Multiple Race Categories Not Represented\n",
      "# White\n",
      "% White\n",
      "# Students with Disabilities\n",
      "% Students with Disabilities\n",
      "# English Language Learners\n",
      "% English Language Learners\n",
      "# Poverty\n",
      "% Poverty\n",
      "Economic Need Index\n",
      "76778 2\n",
      "48.6 4\n",
      "51.4 4\n",
      "15.3 2\n",
      "40.4 2\n",
      "40.5 2\n",
      "70.7 2\n"
     ]
    }
   ],
   "source": [
    "item_process(data)"
   ]
  },
  {
   "cell_type": "code",
   "execution_count": null,
   "metadata": {},
   "outputs": [],
   "source": []
  },
  {
   "cell_type": "code",
   "execution_count": null,
   "metadata": {},
   "outputs": [],
   "source": []
  },
  {
   "cell_type": "code",
   "execution_count": null,
   "metadata": {},
   "outputs": [],
   "source": []
  }
 ],
 "metadata": {
  "kernelspec": {
   "display_name": "Python 3",
   "language": "python",
   "name": "python3"
  },
  "language_info": {
   "codemirror_mode": {
    "name": "ipython",
    "version": 3
   },
   "file_extension": ".py",
   "mimetype": "text/x-python",
   "name": "python",
   "nbconvert_exporter": "python",
   "pygments_lexer": "ipython3",
   "version": "3.7.3"
  }
 },
 "nbformat": 4,
 "nbformat_minor": 2
}
