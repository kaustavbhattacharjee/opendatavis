{
 "cells": [
  {
   "cell_type": "code",
   "execution_count": 13,
   "metadata": {},
   "outputs": [],
   "source": [
    "from flask import Flask\n",
    "from flask import request\n",
    "from flask import jsonify, make_response\n",
    "import sys\n",
    "import os\n",
    "import pandas as pd\n",
    "import numpy as np\n",
    "import glob\n",
    "from flask_cors import CORS\n",
    "import re\n",
    "import json\n",
    "# mydict starts here\n",
    "mydict={}\n",
    "for filename in glob.glob('*.csv'):\n",
    "    df = pd.read_csv(filename);\n",
    "    fname=re.sub(r'.csv', '',filename)\n",
    "    mydict[fname]=df.columns.str.lower().tolist()\n",
    "unionA={}\n",
    "for key in mydict:\n",
    "    for val in mydict[key]:\n",
    "        if val not in unionA:\n",
    "            unionA[val]=1;\n",
    "        else:\n",
    "            unionA[val]=unionA[val]+1;\n",
    "sorted_Atrributes = sorted(unionA, key=unionA.get, reverse=True)\n",
    "# return only shared attrbutes\n",
    "only_shared_attributes=[];\n",
    "count=0\n",
    "for key in sorted_Atrributes:\n",
    "    if(unionA[key]>1):\n",
    "        count=count+1;\n",
    "        only_shared_attributes.insert(count,key)\n",
    "# create the data for json reply\n",
    "mydata={\"unionA\":unionA,\"mydict\":mydict,\"sorted_Atrributes\":sorted_Atrributes,\"only_shared_attributes\":only_shared_attributes}"
   ]
  },
  {
   "cell_type": "code",
   "execution_count": 16,
   "metadata": {},
   "outputs": [
    {
     "data": {
      "text/plain": [
       "['dbn',\n",
       " 'school name',\n",
       " 'borough',\n",
       " 'school_name',\n",
       " 'building_code',\n",
       " 'shared_space',\n",
       " 'phone_number',\n",
       " 'fax_number',\n",
       " 'school_email',\n",
       " 'bus',\n",
       " 'subway',\n",
       " 'primary_address_line_1',\n",
       " 'city',\n",
       " 'state_code',\n",
       " 'postcode',\n",
       " 'website',\n",
       " 'total_students',\n",
       " 'campus_name',\n",
       " 'overview_paragraph',\n",
       " 'language_classes',\n",
       " 'advancedplacement_courses',\n",
       " 'diplomaendorsements',\n",
       " 'extracurricular_activities',\n",
       " 'psal_sports_boys',\n",
       " 'psal_sports_girls',\n",
       " 'psal_sports_coed',\n",
       " 'school_sports',\n",
       " 'addtl_info1',\n",
       " 'start_time',\n",
       " 'end_time',\n",
       " 'ell_programs',\n",
       " 'school_accessibility_description',\n",
       " 'latitude',\n",
       " 'longitude',\n",
       " 'community board',\n",
       " 'council district',\n",
       " 'census tract',\n",
       " 'bin',\n",
       " 'bbl',\n",
       " 'nta',\n",
       " 'demographic']"
      ]
     },
     "execution_count": 16,
     "metadata": {},
     "output_type": "execute_result"
    }
   ],
   "source": [
    "only_shared_attributes"
   ]
  },
  {
   "cell_type": "code",
   "execution_count": null,
   "metadata": {},
   "outputs": [],
   "source": []
  },
  {
   "cell_type": "code",
   "execution_count": null,
   "metadata": {},
   "outputs": [],
   "source": []
  }
 ],
 "metadata": {
  "kernelspec": {
   "display_name": "Python 3",
   "language": "python",
   "name": "python3"
  },
  "language_info": {
   "codemirror_mode": {
    "name": "ipython",
    "version": 3
   },
   "file_extension": ".py",
   "mimetype": "text/x-python",
   "name": "python",
   "nbconvert_exporter": "python",
   "pygments_lexer": "ipython3",
   "version": "3.7.3"
  }
 },
 "nbformat": 4,
 "nbformat_minor": 2
}
