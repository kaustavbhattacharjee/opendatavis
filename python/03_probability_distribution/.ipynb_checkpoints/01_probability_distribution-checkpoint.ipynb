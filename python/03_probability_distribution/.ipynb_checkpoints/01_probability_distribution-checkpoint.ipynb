{
 "cells": [
  {
   "cell_type": "code",
   "execution_count": 3,
   "metadata": {},
   "outputs": [],
   "source": [
    "import pandas as pd"
   ]
  },
  {
   "cell_type": "code",
   "execution_count": 38,
   "metadata": {},
   "outputs": [
    {
     "data": {
      "text/plain": [
       "{'test1.csv': {'A': 0.375},\n",
       " 'test2.csv': {'D': 0.125},\n",
       " 'test3.csv': {'A': 0.375}}"
      ]
     },
     "execution_count": 38,
     "metadata": {},
     "output_type": "execute_result"
    }
   ],
   "source": [
    "prob_dict={}\n",
    "given=[['test1.csv','test2.csv','test3.csv'],['A','D']]\n",
    "for dataset in given[0]:\n",
    "    data=pd.read_csv(dataset)\n",
    "    dict={}\n",
    "    total_rows=data.shape[0]\n",
    "    for att in given[1]:\n",
    "        #print(dataset,att)\n",
    "        if att in data.columns:\n",
    "            #print(dataset,att)\n",
    "            count_of_items=data.groupby(att).size()\n",
    "            #print(count_of_items)\n",
    "            for key,values in count_of_items.items():\n",
    "                #print(dataset,key,'probability is',values/total_rows)\n",
    "                dict[att]=values/total_rows\n",
    "    prob_dict[dataset]=dict\n",
    "prob_dict"
   ]
  },
  {
   "cell_type": "code",
   "execution_count": 17,
   "metadata": {},
   "outputs": [
    {
     "name": "stdout",
     "output_type": "stream",
     "text": [
      "['A1' 'A2' 'A3']\n",
      "[ 11 110  12 122  13 133]\n",
      "[ 111  112 1113  222  223   20]\n"
     ]
    }
   ],
   "source": [
    "for col in data.columns:\n",
    "    print(data[col].unique())"
   ]
  },
  {
   "cell_type": "code",
   "execution_count": 14,
   "metadata": {},
   "outputs": [],
   "source": [
    "data=pd.read_csv(\"test1.csv\")"
   ]
  },
  {
   "cell_type": "code",
   "execution_count": null,
   "metadata": {},
   "outputs": [],
   "source": []
  },
  {
   "cell_type": "code",
   "execution_count": 18,
   "metadata": {},
   "outputs": [],
   "source": [
    "ct=data.groupby(\"A\").size()"
   ]
  },
  {
   "cell_type": "code",
   "execution_count": 19,
   "metadata": {},
   "outputs": [
    {
     "data": {
      "text/plain": [
       "pandas.core.series.Series"
      ]
     },
     "execution_count": 19,
     "metadata": {},
     "output_type": "execute_result"
    }
   ],
   "source": [
    "type(ct)"
   ]
  },
  {
   "cell_type": "code",
   "execution_count": 20,
   "metadata": {},
   "outputs": [
    {
     "data": {
      "text/plain": [
       "{'A1': 2, 'A2': 3, 'A3': 3}"
      ]
     },
     "execution_count": 20,
     "metadata": {},
     "output_type": "execute_result"
    }
   ],
   "source": [
    "ct.to_dict()"
   ]
  },
  {
   "cell_type": "code",
   "execution_count": 21,
   "metadata": {},
   "outputs": [],
   "source": [
    "total_rows=data.shape[0]"
   ]
  },
  {
   "cell_type": "code",
   "execution_count": 22,
   "metadata": {},
   "outputs": [
    {
     "name": "stdout",
     "output_type": "stream",
     "text": [
      "A1 probability is 0.25\n",
      "A2 probability is 0.375\n",
      "A3 probability is 0.375\n"
     ]
    }
   ],
   "source": [
    "for key,values in ct.items():\n",
    "    print(key,'probability is',values/total_rows)"
   ]
  },
  {
   "cell_type": "code",
   "execution_count": null,
   "metadata": {},
   "outputs": [],
   "source": []
  }
 ],
 "metadata": {
  "kernelspec": {
   "display_name": "Python 3",
   "language": "python",
   "name": "python3"
  },
  "language_info": {
   "codemirror_mode": {
    "name": "ipython",
    "version": 3
   },
   "file_extension": ".py",
   "mimetype": "text/x-python",
   "name": "python",
   "nbconvert_exporter": "python",
   "pygments_lexer": "ipython3",
   "version": "3.7.3"
  }
 },
 "nbformat": 4,
 "nbformat_minor": 2
}
