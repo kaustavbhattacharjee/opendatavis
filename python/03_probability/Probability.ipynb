{
 "cells": [
  {
   "cell_type": "code",
   "execution_count": 3,
   "metadata": {},
   "outputs": [],
   "source": [
    "import pandas as pd"
   ]
  },
  {
   "cell_type": "code",
   "execution_count": 42,
   "metadata": {},
   "outputs": [
    {
     "data": {
      "text/plain": [
       "{'test1.csv': {'A1': 0.25, 'A2': 0.375, 'A3': 0.375},\n",
       " 'test2.csv': {'A1': 0.375, 'A2': 0.5, 'A3': 0.125},\n",
       " 'test3.csv': {'A1': 0.25, 'A2': 0.375, 'A3': 0.375}}"
      ]
     },
     "execution_count": 42,
     "metadata": {},
     "output_type": "execute_result"
    }
   ],
   "source": [
    "prob_dict={}\n",
    "given=[['test1.csv','test2.csv','test3.csv'],['A','D']]\n",
    "for dataset in given[0]:\n",
    "    data=pd.read_csv(dataset)\n",
    "    dict={}\n",
    "    total_rows=data.shape[0]\n",
    "    for att in given[1]:\n",
    "        #print(dataset,att)\n",
    "        if att in data.columns:\n",
    "            #print(dataset,att)\n",
    "            count_of_items=data.groupby(att).size()\n",
    "            #print(count_of_items)\n",
    "            for key,values in count_of_items.items():\n",
    "                #print(dataset,key,'probability is',values/total_rows)\n",
    "                dict[key]=values/total_rows\n",
    "    prob_dict[dataset]=dict\n",
    "prob_dict"
   ]
  }
 ],
 "metadata": {
  "kernelspec": {
   "display_name": "Python 3",
   "language": "python",
   "name": "python3"
  },
  "language_info": {
   "codemirror_mode": {
    "name": "ipython",
    "version": 3
   },
   "file_extension": ".py",
   "mimetype": "text/x-python",
   "name": "python",
   "nbconvert_exporter": "python",
   "pygments_lexer": "ipython3",
   "version": "3.7.3"
  }
 },
 "nbformat": 4,
 "nbformat_minor": 2
}
